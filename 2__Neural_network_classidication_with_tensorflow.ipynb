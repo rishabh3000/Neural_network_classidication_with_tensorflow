{
  "nbformat": 4,
  "nbformat_minor": 0,
  "metadata": {
    "colab": {
      "name": "2__Neural_network_classidication_with_tensorflow.ipynb",
      "provenance": [],
      "collapsed_sections": []
    },
    "kernelspec": {
      "name": "python3",
      "display_name": "Python 3"
    },
    "language_info": {
      "name": "python"
    }
  },
  "cells": [
    {
      "cell_type": "code",
      "metadata": {
        "id": "6ZfwwBO9wqBi"
      },
      "source": [
        ""
      ],
      "execution_count": null,
      "outputs": []
    },
    {
      "cell_type": "markdown",
      "metadata": {
        "id": "HSQXvp7iw-YW"
      },
      "source": [
        "Neural Network Classification with TensoFlow"
      ]
    },
    {
      "cell_type": "code",
      "metadata": {
        "id": "rhKi58bsy7ZF"
      },
      "source": [
        "# Creating data to view and fit \n",
        "\n",
        "from sklearn.datasets import make_circles\n",
        "\n",
        "# make 1000 examples\n",
        "n_sample=1000\n",
        "\n",
        "# Create circles\n",
        "\n",
        "x,y=make_circles(n_sample,noise=0.03,\n",
        "                random_state=42)\n"
      ],
      "execution_count": 1,
      "outputs": []
    },
    {
      "cell_type": "code",
      "metadata": {
        "colab": {
          "base_uri": "https://localhost:8080/"
        },
        "id": "vbaI5woNzJTL",
        "outputId": "9021bf50-b778-4ffc-f343-e83d8e8bdbae"
      },
      "source": [
        " # cehck out features\n",
        "\n",
        " x"
      ],
      "execution_count": 2,
      "outputs": [
        {
          "output_type": "execute_result",
          "data": {
            "text/plain": [
              "array([[ 0.75424625,  0.23148074],\n",
              "       [-0.75615888,  0.15325888],\n",
              "       [-0.81539193,  0.17328203],\n",
              "       ...,\n",
              "       [-0.13690036, -0.81001183],\n",
              "       [ 0.67036156, -0.76750154],\n",
              "       [ 0.28105665,  0.96382443]])"
            ]
          },
          "metadata": {},
          "execution_count": 2
        }
      ]
    },
    {
      "cell_type": "code",
      "metadata": {
        "colab": {
          "base_uri": "https://localhost:8080/"
        },
        "id": "tW67hfu76U7r",
        "outputId": "990fded6-230c-42ba-c7d5-695514b20466"
      },
      "source": [
        "# change the labels\n",
        "y[:10]"
      ],
      "execution_count": 3,
      "outputs": [
        {
          "output_type": "execute_result",
          "data": {
            "text/plain": [
              "array([1, 1, 1, 1, 0, 1, 1, 1, 1, 0])"
            ]
          },
          "metadata": {},
          "execution_count": 3
        }
      ]
    },
    {
      "cell_type": "code",
      "metadata": {
        "colab": {
          "base_uri": "https://localhost:8080/",
          "height": 204
        },
        "id": "hoUEQ44b7AI7",
        "outputId": "06f1826a-378a-4be7-86d0-51d5ae212144"
      },
      "source": [
        " import pandas as pd\n",
        " circles=pd.DataFrame({'x0':x[:,0],'x1':x[:,1],\"label\":y})\n",
        " circles.head()"
      ],
      "execution_count": 4,
      "outputs": [
        {
          "output_type": "execute_result",
          "data": {
            "text/html": [
              "<div>\n",
              "<style scoped>\n",
              "    .dataframe tbody tr th:only-of-type {\n",
              "        vertical-align: middle;\n",
              "    }\n",
              "\n",
              "    .dataframe tbody tr th {\n",
              "        vertical-align: top;\n",
              "    }\n",
              "\n",
              "    .dataframe thead th {\n",
              "        text-align: right;\n",
              "    }\n",
              "</style>\n",
              "<table border=\"1\" class=\"dataframe\">\n",
              "  <thead>\n",
              "    <tr style=\"text-align: right;\">\n",
              "      <th></th>\n",
              "      <th>x0</th>\n",
              "      <th>x1</th>\n",
              "      <th>label</th>\n",
              "    </tr>\n",
              "  </thead>\n",
              "  <tbody>\n",
              "    <tr>\n",
              "      <th>0</th>\n",
              "      <td>0.754246</td>\n",
              "      <td>0.231481</td>\n",
              "      <td>1</td>\n",
              "    </tr>\n",
              "    <tr>\n",
              "      <th>1</th>\n",
              "      <td>-0.756159</td>\n",
              "      <td>0.153259</td>\n",
              "      <td>1</td>\n",
              "    </tr>\n",
              "    <tr>\n",
              "      <th>2</th>\n",
              "      <td>-0.815392</td>\n",
              "      <td>0.173282</td>\n",
              "      <td>1</td>\n",
              "    </tr>\n",
              "    <tr>\n",
              "      <th>3</th>\n",
              "      <td>-0.393731</td>\n",
              "      <td>0.692883</td>\n",
              "      <td>1</td>\n",
              "    </tr>\n",
              "    <tr>\n",
              "      <th>4</th>\n",
              "      <td>0.442208</td>\n",
              "      <td>-0.896723</td>\n",
              "      <td>0</td>\n",
              "    </tr>\n",
              "  </tbody>\n",
              "</table>\n",
              "</div>"
            ],
            "text/plain": [
              "         x0        x1  label\n",
              "0  0.754246  0.231481      1\n",
              "1 -0.756159  0.153259      1\n",
              "2 -0.815392  0.173282      1\n",
              "3 -0.393731  0.692883      1\n",
              "4  0.442208 -0.896723      0"
            ]
          },
          "metadata": {},
          "execution_count": 4
        }
      ]
    },
    {
      "cell_type": "code",
      "metadata": {
        "colab": {
          "base_uri": "https://localhost:8080/"
        },
        "id": "QwrTUrUHePVa",
        "outputId": "a4c2080d-5038-49e7-f63e-545937c87942"
      },
      "source": [
        "circles['label'].value_counts()"
      ],
      "execution_count": 5,
      "outputs": [
        {
          "output_type": "execute_result",
          "data": {
            "text/plain": [
              "1    500\n",
              "0    500\n",
              "Name: label, dtype: int64"
            ]
          },
          "metadata": {},
          "execution_count": 5
        }
      ]
    },
    {
      "cell_type": "code",
      "metadata": {
        "colab": {
          "base_uri": "https://localhost:8080/",
          "height": 265
        },
        "id": "iWwgW16JLXSP",
        "outputId": "02578922-2c3b-4ca9-ddad-2bb1ce35c069"
      },
      "source": [
        "# Visualize with a Plot\n",
        "\n",
        "import matplotlib.pyplot as plt\n",
        "plt.scatter(x[:,0],x[:,1],c=y,cmap=plt.cm.RdYlBu);"
      ],
      "execution_count": 6,
      "outputs": [
        {
          "output_type": "display_data",
          "data": {
            "image/png": "[encoded data removed]",
            "text/plain": [
              "<Figure size 432x288 with 1 Axes>"
            ]
          },
          "metadata": {
            "needs_background": "light"
          }
        }
      ]
    },
    {
      "cell_type": "code",
      "metadata": {
        "colab": {
          "base_uri": "https://localhost:8080/"
        },
        "id": "t2qvlaOKMLK2",
        "outputId": "b422730b-c9b8-4967-b8b0-70d5e5af368a"
      },
      "source": [
        "# shape of our feature and labels\n",
        "\n",
        "x.shape,y.shape"
      ],
      "execution_count": 7,
      "outputs": [
        {
          "output_type": "execute_result",
          "data": {
            "text/plain": [
              "((1000, 2), (1000,))"
            ]
          },
          "metadata": {},
          "execution_count": 7
        }
      ]
    },
    {
      "cell_type": "code",
      "metadata": {
        "colab": {
          "base_uri": "https://localhost:8080/"
        },
        "id": "RnM81RmEVrN8",
        "outputId": "165a5bfd-e5f1-4d4e-f53f-efc21b8341af"
      },
      "source": [
        " len(x),len(y)"
      ],
      "execution_count": 8,
      "outputs": [
        {
          "output_type": "execute_result",
          "data": {
            "text/plain": [
              "(1000, 1000)"
            ]
          },
          "metadata": {},
          "execution_count": 8
        }
      ]
    },
    {
      "cell_type": "code",
      "metadata": {
        "colab": {
          "base_uri": "https://localhost:8080/"
        },
        "id": "OAoCSryyV2KS",
        "outputId": "014b5dca-6bad-4873-bdf7-19c70c7344b2"
      },
      "source": [
        "x[0],y[0]"
      ],
      "execution_count": 9,
      "outputs": [
        {
          "output_type": "execute_result",
          "data": {
            "text/plain": [
              "(array([0.75424625, 0.23148074]), 1)"
            ]
          },
          "metadata": {},
          "execution_count": 9
        }
      ]
    },
    {
      "cell_type": "code",
      "metadata": {
        "colab": {
          "base_uri": "https://localhost:8080/"
        },
        "id": "biKVWaI1V7SR",
        "outputId": "06c73eb3-8401-48d3-a986-8b91efde1588"
      },
      "source": [
        "x[15],y[15]"
      ],
      "execution_count": 10,
      "outputs": [
        {
          "output_type": "execute_result",
          "data": {
            "text/plain": [
              "(array([ 0.19022571, -0.76341003]), 1)"
            ]
          },
          "metadata": {},
          "execution_count": 10
        }
      ]
    },
    {
      "cell_type": "code",
      "metadata": {
        "id": "fhnU5wptaDGb"
      },
      "source": [
        "import tensorflow as tf"
      ],
      "execution_count": 11,
      "outputs": []
    },
    {
      "cell_type": "markdown",
      "metadata": {
        "id": "F5mrU7WRWH5D"
      },
      "source": [
        "Steps in Modelling"
      ]
    },
    {
      "cell_type": "code",
      "metadata": {
        "id": "ozDUVUp_V_BZ",
        "colab": {
          "base_uri": "https://localhost:8080/"
        },
        "outputId": "f5d34474-c837-4a8f-a930-7666eebee59f"
      },
      "source": [
        "tf.random.set_seed(42)\n",
        "\n",
        "# 1.\n",
        "model_1=tf.keras.Sequential([\n",
        "                             tf.keras.layers.Dense(1)\n",
        "])\n",
        "\n",
        "# 2.\n",
        "model_1.compile(loss=tf.keras.losses.BinaryCrossentropy(),\n",
        "                optimizer=tf.keras.optimizers.SGD(),\n",
        "                metrics=['accuracy'])\n",
        "\n",
        "# 3.\n",
        "\n",
        "model_1.fit(x,y,epochs=5)"
      ],
      "execution_count": 12,
      "outputs": [
        {
          "output_type": "stream",
          "name": "stdout",
          "text": [
            "Epoch 1/5\n",
            "32/32 [==============================] - 1s 1ms/step - loss: 2.8544 - accuracy: 0.4600\n",
            "Epoch 2/5\n",
            "32/32 [==============================] - 0s 2ms/step - loss: 0.7131 - accuracy: 0.5430\n",
            "Epoch 3/5\n",
            "32/32 [==============================] - 0s 1ms/step - loss: 0.6973 - accuracy: 0.5090\n",
            "Epoch 4/5\n",
            "32/32 [==============================] - 0s 1ms/step - loss: 0.6950 - accuracy: 0.5010\n",
            "Epoch 5/5\n",
            "32/32 [==============================] - 0s 1ms/step - loss: 0.6942 - accuracy: 0.4830\n"
          ]
        },
        {
          "output_type": "execute_result",
          "data": {
            "text/plain": [
              "<keras.callbacks.History at 0x7f7f0234cfd0>"
            ]
          },
          "metadata": {},
          "execution_count": 12
        }
      ]
    },
    {
      "cell_type": "code",
      "metadata": {
        "colab": {
          "base_uri": "https://localhost:8080/"
        },
        "id": "T3on4_OmaB9K",
        "outputId": "1ad96dd7-991f-4388-8f46-861a00a50d6d"
      },
      "source": [
        "# Improve our Model\n",
        "\n",
        "model_1.fit(x,y,epochs=200,verbose=0)\n",
        "model_1.evaluate(x,y)"
      ],
      "execution_count": 13,
      "outputs": [
        {
          "output_type": "stream",
          "name": "stdout",
          "text": [
            "32/32 [==============================] - 0s 1ms/step - loss: 0.6935 - accuracy: 0.5000\n"
          ]
        },
        {
          "output_type": "execute_result",
          "data": {
            "text/plain": [
              "[0.6934829950332642, 0.5]"
            ]
          },
          "metadata": {},
          "execution_count": 13
        }
      ]
    },
    {
      "cell_type": "code",
      "metadata": {
        "colab": {
          "base_uri": "https://localhost:8080/"
        },
        "id": "3DVvyZpnbG1p",
        "outputId": "1e4a867a-34af-47bd-e87c-29b5131ef668"
      },
      "source": [
        "# Set the random seed\n",
        "tf.random.set_seed(42)\n",
        "\n",
        "# 1.create a Model\n",
        "\n",
        "model_2=tf.keras.Sequential([tf.keras.layers.Dense(1),\n",
        "                             tf.keras.layers.Dense(1)])\n",
        "\n",
        "# 2,complie the model\n",
        "\n",
        "model_2.compile(loss=tf.keras.losses.BinaryCrossentropy(),\n",
        "                optimizer=tf.keras.optimizers.SGD(),\n",
        "                metrics=['accuracy'])\n",
        "\n",
        "# Fit the Model\n",
        "\n",
        "model_2.fit(x,y,epochs=100,verbose=0)\n",
        "\n"
      ],
      "execution_count": 14,
      "outputs": [
        {
          "output_type": "execute_result",
          "data": {
            "text/plain": [
              "<keras.callbacks.History at 0x7f7efe818a10>"
            ]
          },
          "metadata": {},
          "execution_count": 14
        }
      ]
    },
    {
      "cell_type": "code",
      "metadata": {
        "colab": {
          "base_uri": "https://localhost:8080/"
        },
        "id": "SpEiy6Njd-6I",
        "outputId": "fa348136-2c81-4ba5-9a93-7c393b09a2ad"
      },
      "source": [
        "# Evaluate the model\n",
        "\n",
        "model_2.evaluate(x,y)"
      ],
      "execution_count": 15,
      "outputs": [
        {
          "output_type": "stream",
          "name": "stdout",
          "text": [
            "32/32 [==============================] - 0s 1ms/step - loss: 0.6933 - accuracy: 0.5000\n"
          ]
        },
        {
          "output_type": "execute_result",
          "data": {
            "text/plain": [
              "[0.6933314800262451, 0.5]"
            ]
          },
          "metadata": {},
          "execution_count": 15
        }
      ]
    },
    {
      "cell_type": "code",
      "metadata": {
        "colab": {
          "base_uri": "https://localhost:8080/"
        },
        "id": "HxQHw0_AeFDn",
        "outputId": "4a198098-e1eb-43c0-eaa2-cf99c03de30c"
      },
      "source": [
        "# More improve our model\n",
        "\n",
        "# Random seed'\n",
        "\n",
        "tf.random.set_seed(42)\n",
        "\n",
        "# 1.create the mdoel\n",
        "\n",
        "model_3=tf.keras.Sequential([\n",
        "                             tf.keras.layers.Dense(100),\n",
        "                             tf.keras.layers.Dense(10),\n",
        "                             tf.keras.layers.Dense(1)\n",
        "])\n",
        "\n",
        "# 2. Complie the model\n",
        "\n",
        "model_3.compile(loss=tf.keras.losses.BinaryCrossentropy(),\n",
        "                optimizer=tf.keras.optimizers.Adam(),\n",
        "                metrics=['accuracy'])\n",
        "\n",
        "# 3. Fit the model\n",
        "\n",
        "model_3.fit(x,y,epochs=100,verbose=0)"
      ],
      "execution_count": 16,
      "outputs": [
        {
          "output_type": "execute_result",
          "data": {
            "text/plain": [
              "<keras.callbacks.History at 0x7f7efe6b8c90>"
            ]
          },
          "metadata": {},
          "execution_count": 16
        }
      ]
    },
    {
      "cell_type": "code",
      "metadata": {
        "colab": {
          "base_uri": "https://localhost:8080/"
        },
        "id": "HNBtCIV7HR09",
        "outputId": "bebbae10-4e1f-40c5-9d9d-cd5131f2019a"
      },
      "source": [
        "model_3.fit(x,y)"
      ],
      "execution_count": 17,
      "outputs": [
        {
          "output_type": "stream",
          "name": "stdout",
          "text": [
            "32/32 [==============================] - 0s 2ms/step - loss: 0.6974 - accuracy: 0.5000\n"
          ]
        },
        {
          "output_type": "execute_result",
          "data": {
            "text/plain": [
              "<keras.callbacks.History at 0x7f7efe06d310>"
            ]
          },
          "metadata": {},
          "execution_count": 17
        }
      ]
    },
    {
      "cell_type": "code",
      "metadata": {
        "id": "mpCHD3knHvUM"
      },
      "source": [
        "import numpy as np\n",
        "\n",
        "def plot_decision_boundary(model, X, y):\n",
        "  x_min,x_max=x[:,0].min() - .1,x[:,0].max() +.1\n",
        "  y_min,y_max=x[:,1].min() - .1,x[:,1].max() +.1\n",
        "  xx, yy -np.meshgrid(np.linspace(x_min,x_max,100),\n",
        "                      np.linspace(y_min,y_max,100))\n",
        "  \n",
        "  "
      ],
      "execution_count": 18,
      "outputs": []
    },
    {
      "cell_type": "code",
      "metadata": {
        "colab": {
          "base_uri": "https://localhost:8080/"
        },
        "id": "OdHSUrPSMN3k",
        "outputId": "51d84718-6565-4035-ff13-dbef31a63036"
      },
      "source": [
        "x_min,x_max=x[:,0].min() - .1,x[:,0].max() +.1\n",
        "y_min,y_max=x[:,1].min() - .1,x[:,1].max() +.1\n",
        "\n",
        "x_min,x_max,y_min,y_max"
      ],
      "execution_count": 19,
      "outputs": [
        {
          "output_type": "execute_result",
          "data": {
            "text/plain": [
              "(-1.1595024599098636,\n",
              " 1.1337117525463374,\n",
              " -1.1677683182718437,\n",
              " 1.1360036756154805)"
            ]
          },
          "metadata": {},
          "execution_count": 19
        }
      ]
    },
    {
      "cell_type": "code",
      "metadata": {
        "id": "VTlSytNxMO8y"
      },
      "source": [
        ""
      ],
      "execution_count": 19,
      "outputs": []
    },
    {
      "cell_type": "code",
      "metadata": {
        "id": "1ybxgKuQJp6o"
      },
      "source": [
        "\n",
        "\n",
        "import numpy as np\n",
        "\n",
        "def plot_decision_boundary(model, x, y):\n",
        "  \"\"\"\n",
        "  Plots the decision boundary created by a model predicting on X.\n",
        "  This function has been adapted from two phenomenal resources:\n",
        "   1. CS231n - https://cs231n.github.io/neural-networks-case-study/\n",
        "   2. Made with ML basics - https://github.com/GokuMohandas/MadeWithML/blob/main/notebooks/08_Neural_Networks.ipynb\n",
        "  \"\"\"\n",
        "  # Define the axis boundaries of the plot and create a meshgrid\n",
        "  x_min, x_max = x[:, 0].min() - 0.1, x[:, 0].max() + 0.1\n",
        "  y_min, y_max = x[:, 1].min() - 0.1, x[:, 1].max() + 0.1\n",
        "  xx, yy = np.meshgrid(np.linspace(x_min, x_max, 100),\n",
        "                       np.linspace(y_min, y_max, 100))\n",
        "  \n",
        "  # Create X values (we're going to predict on all of these)\n",
        "  x_in = np.c_[xx.ravel(), yy.ravel()] # stack 2D arrays together: https://numpy.org/devdocs/reference/generated/numpy.c_.html\n",
        "  \n",
        "  # Make predictions using the trained model\n",
        "  y_pred = model.predict(x_in)\n",
        "\n",
        "  # Check for multi-class\n",
        "  if len(y_pred[0]) > 1:\n",
        "    print(\"doing multiclass classification...\")\n",
        "    # We have to reshape our predictions to get them ready for plotting\n",
        "    y_pred = np.argmax(y_pred, axis=1).reshape(xx.shape)\n",
        "  else:\n",
        "    print(\"doing binary classifcation...\")\n",
        "    y_pred = np.round(y_pred).reshape(xx.shape)\n",
        "  \n",
        "  # Plot decision boundary\n",
        "  plt.contourf(xx, yy, y_pred, cmap=plt.cm.RdYlBu, alpha=0.7)\n",
        "  plt.scatter(x[:, 0], x[:, 1], c=y, s=40, cmap=plt.cm.RdYlBu)\n",
        "  plt.xlim(xx.min(), xx.max())\n",
        "  plt.ylim(yy.min(), yy.max())\n"
      ],
      "execution_count": 20,
      "outputs": []
    },
    {
      "cell_type": "code",
      "metadata": {
        "colab": {
          "base_uri": "https://localhost:8080/",
          "height": 282
        },
        "id": "QhPhWlWGKBIK",
        "outputId": "c6ccc6a7-e58f-4c22-9a7e-bd959d7c0188"
      },
      "source": [
        "plot_decision_boundary(model_3, x, y)\n"
      ],
      "execution_count": 21,
      "outputs": [
        {
          "output_type": "stream",
          "name": "stdout",
          "text": [
            "doing binary classifcation...\n"
          ]
        },
        {
          "output_type": "display_data",
          "data": {
            "image/png": "[encoded data removed]",
            "text/plain": [
              "<Figure size 432x288 with 1 Axes>"
            ]
          },
          "metadata": {
            "needs_background": "light"
          }
        }
      ]
    },
    {
      "cell_type": "code",
      "metadata": {
        "colab": {
          "base_uri": "https://localhost:8080/"
        },
        "id": "XzktxvYm6QGB",
        "outputId": "dc0b0fc8-f661-421b-def7-95e3d61e52a5"
      },
      "source": [
        "# Random seed'\n",
        "\n",
        "tf.random.set_seed(42)\n",
        "\n",
        "# 1.create the mdoel\n",
        "\n",
        "model_3=tf.keras.Sequential([\n",
        "                             tf.keras.layers.Dense(100),\n",
        "                             tf.keras.layers.Dense(10),\n",
        "                             tf.keras.layers.Dense(1)\n",
        "])\n",
        "\n",
        "# 2. Complie the model\n",
        "\n",
        "model_3.compile(loss='mae',\n",
        "                optimizer=tf.keras.optimizers.Adam(),\n",
        "                metrics=['mae'])\n",
        "\n",
        "# 3. Fit the model\n",
        "\n",
        "model_3.fit(x,y,epochs=100)"
      ],
      "execution_count": 34,
      "outputs": [
        {
          "output_type": "stream",
          "name": "stdout",
          "text": [
            "Epoch 1/100\n",
            "32/32 [==============================] - 0s 2ms/step - loss: 0.5278 - mae: 0.5278\n",
            "Epoch 2/100\n",
            "32/32 [==============================] - 0s 1ms/step - loss: 0.5035 - mae: 0.5035\n",
            "Epoch 3/100\n",
            "32/32 [==============================] - 0s 2ms/step - loss: 0.5022 - mae: 0.5022\n",
            "Epoch 4/100\n",
            "32/32 [==============================] - 0s 2ms/step - loss: 0.5042 - mae: 0.5042\n",
            "Epoch 5/100\n",
            "32/32 [==============================] - 0s 1ms/step - loss: 0.5021 - mae: 0.5021\n",
            "Epoch 6/100\n",
            "32/32 [==============================] - 0s 2ms/step - loss: 0.5034 - mae: 0.5034\n",
            "Epoch 7/100\n",
            "32/32 [==============================] - 0s 2ms/step - loss: 0.5016 - mae: 0.5016\n",
            "Epoch 8/100\n",
            "32/32 [==============================] - 0s 2ms/step - loss: 0.5051 - mae: 0.5051\n",
            "Epoch 9/100\n",
            "32/32 [==============================] - 0s 1ms/step - loss: 0.5018 - mae: 0.5018\n",
            "Epoch 10/100\n",
            "32/32 [==============================] - 0s 2ms/step - loss: 0.5029 - mae: 0.5029\n",
            "Epoch 11/100\n",
            "32/32 [==============================] - 0s 2ms/step - loss: 0.5039 - mae: 0.5039\n",
            "Epoch 12/100\n",
            "32/32 [==============================] - 0s 2ms/step - loss: 0.5033 - mae: 0.5033\n",
            "Epoch 13/100\n",
            "32/32 [==============================] - 0s 1ms/step - loss: 0.5033 - mae: 0.5033\n",
            "Epoch 14/100\n",
            "32/32 [==============================] - 0s 2ms/step - loss: 0.5031 - mae: 0.5031\n",
            "Epoch 15/100\n",
            "32/32 [==============================] - 0s 2ms/step - loss: 0.5023 - mae: 0.5023\n",
            "Epoch 16/100\n",
            "32/32 [==============================] - 0s 1ms/step - loss: 0.5014 - mae: 0.5014\n",
            "Epoch 17/100\n",
            "32/32 [==============================] - 0s 1ms/step - loss: 0.5051 - mae: 0.5051\n",
            "Epoch 18/100\n",
            "32/32 [==============================] - 0s 1ms/step - loss: 0.5022 - mae: 0.5022\n",
            "Epoch 19/100\n",
            "32/32 [==============================] - 0s 1ms/step - loss: 0.5029 - mae: 0.5029\n",
            "Epoch 20/100\n",
            "32/32 [==============================] - 0s 1ms/step - loss: 0.5034 - mae: 0.5034\n",
            "Epoch 21/100\n",
            "32/32 [==============================] - 0s 2ms/step - loss: 0.5028 - mae: 0.5028\n",
            "Epoch 22/100\n",
            "32/32 [==============================] - 0s 1ms/step - loss: 0.5019 - mae: 0.5019\n",
            "Epoch 23/100\n",
            "32/32 [==============================] - 0s 1ms/step - loss: 0.5018 - mae: 0.5018\n",
            "Epoch 24/100\n",
            "32/32 [==============================] - 0s 1ms/step - loss: 0.5056 - mae: 0.5056\n",
            "Epoch 25/100\n",
            "32/32 [==============================] - 0s 1ms/step - loss: 0.5017 - mae: 0.5017\n",
            "Epoch 26/100\n",
            "32/32 [==============================] - 0s 2ms/step - loss: 0.5023 - mae: 0.5023\n",
            "Epoch 27/100\n",
            "32/32 [==============================] - 0s 2ms/step - loss: 0.5048 - mae: 0.5048\n",
            "Epoch 28/100\n",
            "32/32 [==============================] - 0s 3ms/step - loss: 0.5010 - mae: 0.5010\n",
            "Epoch 29/100\n",
            "32/32 [==============================] - 0s 2ms/step - loss: 0.5070 - mae: 0.5070\n",
            "Epoch 30/100\n",
            "32/32 [==============================] - 0s 1ms/step - loss: 0.5036 - mae: 0.5036\n",
            "Epoch 31/100\n",
            "32/32 [==============================] - 0s 2ms/step - loss: 0.5033 - mae: 0.5033\n",
            "Epoch 32/100\n",
            "32/32 [==============================] - 0s 2ms/step - loss: 0.5028 - mae: 0.5028\n",
            "Epoch 33/100\n",
            "32/32 [==============================] - 0s 2ms/step - loss: 0.5025 - mae: 0.5025\n",
            "Epoch 34/100\n",
            "32/32 [==============================] - 0s 1ms/step - loss: 0.5038 - mae: 0.5038\n",
            "Epoch 35/100\n",
            "32/32 [==============================] - 0s 1ms/step - loss: 0.5036 - mae: 0.5036\n",
            "Epoch 36/100\n",
            "32/32 [==============================] - 0s 2ms/step - loss: 0.5012 - mae: 0.5012\n",
            "Epoch 37/100\n",
            "32/32 [==============================] - 0s 1ms/step - loss: 0.5018 - mae: 0.5018\n",
            "Epoch 38/100\n",
            "32/32 [==============================] - 0s 1ms/step - loss: 0.5036 - mae: 0.5036\n",
            "Epoch 39/100\n",
            "32/32 [==============================] - 0s 1ms/step - loss: 0.5017 - mae: 0.5017\n",
            "Epoch 40/100\n",
            "32/32 [==============================] - 0s 2ms/step - loss: 0.5042 - mae: 0.5042\n",
            "Epoch 41/100\n",
            "32/32 [==============================] - 0s 2ms/step - loss: 0.5047 - mae: 0.5047\n",
            "Epoch 42/100\n",
            "32/32 [==============================] - 0s 2ms/step - loss: 0.5044 - mae: 0.5044\n",
            "Epoch 43/100\n",
            "32/32 [==============================] - 0s 2ms/step - loss: 0.5021 - mae: 0.5021\n",
            "Epoch 44/100\n",
            "32/32 [==============================] - 0s 1ms/step - loss: 0.5038 - mae: 0.5038\n",
            "Epoch 45/100\n",
            "32/32 [==============================] - 0s 2ms/step - loss: 0.5019 - mae: 0.5019\n",
            "Epoch 46/100\n",
            "32/32 [==============================] - 0s 2ms/step - loss: 0.5012 - mae: 0.5012\n",
            "Epoch 47/100\n",
            "32/32 [==============================] - 0s 2ms/step - loss: 0.5033 - mae: 0.5033\n",
            "Epoch 48/100\n",
            "32/32 [==============================] - 0s 1ms/step - loss: 0.5031 - mae: 0.5031\n",
            "Epoch 49/100\n",
            "32/32 [==============================] - 0s 2ms/step - loss: 0.5025 - mae: 0.5025\n",
            "Epoch 50/100\n",
            "32/32 [==============================] - 0s 2ms/step - loss: 0.5026 - mae: 0.5026\n",
            "Epoch 51/100\n",
            "32/32 [==============================] - 0s 1ms/step - loss: 0.5016 - mae: 0.5016\n",
            "Epoch 52/100\n",
            "32/32 [==============================] - 0s 2ms/step - loss: 0.5020 - mae: 0.5020\n",
            "Epoch 53/100\n",
            "32/32 [==============================] - 0s 2ms/step - loss: 0.5056 - mae: 0.5056\n",
            "Epoch 54/100\n",
            "32/32 [==============================] - 0s 2ms/step - loss: 0.5012 - mae: 0.5012\n",
            "Epoch 55/100\n",
            "32/32 [==============================] - 0s 1ms/step - loss: 0.5036 - mae: 0.5036\n",
            "Epoch 56/100\n",
            "32/32 [==============================] - 0s 2ms/step - loss: 0.5030 - mae: 0.5030\n",
            "Epoch 57/100\n",
            "32/32 [==============================] - 0s 1ms/step - loss: 0.5017 - mae: 0.5017\n",
            "Epoch 58/100\n",
            "32/32 [==============================] - 0s 1ms/step - loss: 0.5025 - mae: 0.5025\n",
            "Epoch 59/100\n",
            "32/32 [==============================] - 0s 1ms/step - loss: 0.5053 - mae: 0.5053\n",
            "Epoch 60/100\n",
            "32/32 [==============================] - 0s 1ms/step - loss: 0.5027 - mae: 0.5027\n",
            "Epoch 61/100\n",
            "32/32 [==============================] - 0s 1ms/step - loss: 0.5035 - mae: 0.5035\n",
            "Epoch 62/100\n",
            "32/32 [==============================] - 0s 2ms/step - loss: 0.5019 - mae: 0.5019\n",
            "Epoch 63/100\n",
            "32/32 [==============================] - 0s 2ms/step - loss: 0.5014 - mae: 0.5014\n",
            "Epoch 64/100\n",
            "32/32 [==============================] - 0s 2ms/step - loss: 0.5029 - mae: 0.5029\n",
            "Epoch 65/100\n",
            "32/32 [==============================] - 0s 3ms/step - loss: 0.5023 - mae: 0.5023\n",
            "Epoch 66/100\n",
            "32/32 [==============================] - 0s 2ms/step - loss: 0.5020 - mae: 0.5020\n",
            "Epoch 67/100\n",
            "32/32 [==============================] - 0s 2ms/step - loss: 0.5018 - mae: 0.5018\n",
            "Epoch 68/100\n",
            "32/32 [==============================] - 0s 2ms/step - loss: 0.5019 - mae: 0.5019\n",
            "Epoch 69/100\n",
            "32/32 [==============================] - 0s 1ms/step - loss: 0.5016 - mae: 0.5016\n",
            "Epoch 70/100\n",
            "32/32 [==============================] - 0s 2ms/step - loss: 0.5022 - mae: 0.5022\n",
            "Epoch 71/100\n",
            "32/32 [==============================] - 0s 1ms/step - loss: 0.5016 - mae: 0.5016\n",
            "Epoch 72/100\n",
            "32/32 [==============================] - 0s 1ms/step - loss: 0.5021 - mae: 0.5021\n",
            "Epoch 73/100\n",
            "32/32 [==============================] - 0s 1ms/step - loss: 0.5030 - mae: 0.5030\n",
            "Epoch 74/100\n",
            "32/32 [==============================] - 0s 1ms/step - loss: 0.5019 - mae: 0.5019\n",
            "Epoch 75/100\n",
            "32/32 [==============================] - 0s 1ms/step - loss: 0.5030 - mae: 0.5030\n",
            "Epoch 76/100\n",
            "32/32 [==============================] - 0s 2ms/step - loss: 0.5022 - mae: 0.5022\n",
            "Epoch 77/100\n",
            "32/32 [==============================] - 0s 2ms/step - loss: 0.5017 - mae: 0.5017\n",
            "Epoch 78/100\n",
            "32/32 [==============================] - 0s 2ms/step - loss: 0.5022 - mae: 0.5022\n",
            "Epoch 79/100\n",
            "32/32 [==============================] - 0s 2ms/step - loss: 0.5034 - mae: 0.5034\n",
            "Epoch 80/100\n",
            "32/32 [==============================] - 0s 1ms/step - loss: 0.5007 - mae: 0.5007\n",
            "Epoch 81/100\n",
            "32/32 [==============================] - 0s 2ms/step - loss: 0.5039 - mae: 0.5039\n",
            "Epoch 82/100\n",
            "32/32 [==============================] - 0s 2ms/step - loss: 0.5033 - mae: 0.5033\n",
            "Epoch 83/100\n",
            "32/32 [==============================] - 0s 1ms/step - loss: 0.5029 - mae: 0.5029\n",
            "Epoch 84/100\n",
            "32/32 [==============================] - 0s 1ms/step - loss: 0.5003 - mae: 0.5003\n",
            "Epoch 85/100\n",
            "32/32 [==============================] - 0s 2ms/step - loss: 0.5015 - mae: 0.5015\n",
            "Epoch 86/100\n",
            "32/32 [==============================] - 0s 2ms/step - loss: 0.5033 - mae: 0.5033\n",
            "Epoch 87/100\n",
            "32/32 [==============================] - 0s 1ms/step - loss: 0.5015 - mae: 0.5015\n",
            "Epoch 88/100\n",
            "32/32 [==============================] - 0s 1ms/step - loss: 0.5017 - mae: 0.5017\n",
            "Epoch 89/100\n",
            "32/32 [==============================] - 0s 1ms/step - loss: 0.5024 - mae: 0.5024\n",
            "Epoch 90/100\n",
            "32/32 [==============================] - 0s 1ms/step - loss: 0.5029 - mae: 0.5029\n",
            "Epoch 91/100\n",
            "32/32 [==============================] - 0s 2ms/step - loss: 0.5014 - mae: 0.5014\n",
            "Epoch 92/100\n",
            "32/32 [==============================] - 0s 2ms/step - loss: 0.5029 - mae: 0.5029\n",
            "Epoch 93/100\n",
            "32/32 [==============================] - 0s 2ms/step - loss: 0.5045 - mae: 0.5045\n",
            "Epoch 94/100\n",
            "32/32 [==============================] - 0s 2ms/step - loss: 0.5015 - mae: 0.5015\n",
            "Epoch 95/100\n",
            "32/32 [==============================] - 0s 1ms/step - loss: 0.5017 - mae: 0.5017\n",
            "Epoch 96/100\n",
            "32/32 [==============================] - 0s 1ms/step - loss: 0.5024 - mae: 0.5024\n",
            "Epoch 97/100\n",
            "32/32 [==============================] - 0s 1ms/step - loss: 0.5018 - mae: 0.5018\n",
            "Epoch 98/100\n",
            "32/32 [==============================] - 0s 1ms/step - loss: 0.5022 - mae: 0.5022\n",
            "Epoch 99/100\n",
            "32/32 [==============================] - 0s 1ms/step - loss: 0.5018 - mae: 0.5018\n",
            "Epoch 100/100\n",
            "32/32 [==============================] - 0s 1ms/step - loss: 0.5031 - mae: 0.5031\n"
          ]
        },
        {
          "output_type": "execute_result",
          "data": {
            "text/plain": [
              "<keras.callbacks.History at 0x7f7efb6279d0>"
            ]
          },
          "metadata": {},
          "execution_count": 34
        }
      ]
    },
    {
      "cell_type": "code",
      "metadata": {
        "id": "eN3xOyiIKDbL",
        "colab": {
          "base_uri": "https://localhost:8080/"
        },
        "outputId": "a3bcbfc5-8ba6-43ca-e53b-d1e2742252bb"
      },
      "source": [
        "# our model is predicting straight line  so it is used for a regression problem\n",
        "\n",
        "tf.random.set_seed(42)\n",
        "\n",
        "x_regression=tf.range(0,1000,5)\n",
        "y_regression=tf.range(100,1100,5)\n",
        "\n",
        "x_regression,y_regression"
      ],
      "execution_count": 35,
      "outputs": [
        {
          "output_type": "execute_result",
          "data": {
            "text/plain": [
              "(<tf.Tensor: shape=(200,), dtype=int32, numpy=\n",
              " array([  0,   5,  10,  15,  20,  25,  30,  35,  40,  45,  50,  55,  60,\n",
              "         65,  70,  75,  80,  85,  90,  95, 100, 105, 110, 115, 120, 125,\n",
              "        130, 135, 140, 145, 150, 155, 160, 165, 170, 175, 180, 185, 190,\n",
              "        195, 200, 205, 210, 215, 220, 225, 230, 235, 240, 245, 250, 255,\n",
              "        260, 265, 270, 275, 280, 285, 290, 295, 300, 305, 310, 315, 320,\n",
              "        325, 330, 335, 340, 345, 350, 355, 360, 365, 370, 375, 380, 385,\n",
              "        390, 395, 400, 405, 410, 415, 420, 425, 430, 435, 440, 445, 450,\n",
              "        455, 460, 465, 470, 475, 480, 485, 490, 495, 500, 505, 510, 515,\n",
              "        520, 525, 530, 535, 540, 545, 550, 555, 560, 565, 570, 575, 580,\n",
              "        585, 590, 595, 600, 605, 610, 615, 620, 625, 630, 635, 640, 645,\n",
              "        650, 655, 660, 665, 670, 675, 680, 685, 690, 695, 700, 705, 710,\n",
              "        715, 720, 725, 730, 735, 740, 745, 750, 755, 760, 765, 770, 775,\n",
              "        780, 785, 790, 795, 800, 805, 810, 815, 820, 825, 830, 835, 840,\n",
              "        845, 850, 855, 860, 865, 870, 875, 880, 885, 890, 895, 900, 905,\n",
              "        910, 915, 920, 925, 930, 935, 940, 945, 950, 955, 960, 965, 970,\n",
              "        975, 980, 985, 990, 995], dtype=int32)>,\n",
              " <tf.Tensor: shape=(200,), dtype=int32, numpy=\n",
              " array([ 100,  105,  110,  115,  120,  125,  130,  135,  140,  145,  150,\n",
              "         155,  160,  165,  170,  175,  180,  185,  190,  195,  200,  205,\n",
              "         210,  215,  220,  225,  230,  235,  240,  245,  250,  255,  260,\n",
              "         265,  270,  275,  280,  285,  290,  295,  300,  305,  310,  315,\n",
              "         320,  325,  330,  335,  340,  345,  350,  355,  360,  365,  370,\n",
              "         375,  380,  385,  390,  395,  400,  405,  410,  415,  420,  425,\n",
              "         430,  435,  440,  445,  450,  455,  460,  465,  470,  475,  480,\n",
              "         485,  490,  495,  500,  505,  510,  515,  520,  525,  530,  535,\n",
              "         540,  545,  550,  555,  560,  565,  570,  575,  580,  585,  590,\n",
              "         595,  600,  605,  610,  615,  620,  625,  630,  635,  640,  645,\n",
              "         650,  655,  660,  665,  670,  675,  680,  685,  690,  695,  700,\n",
              "         705,  710,  715,  720,  725,  730,  735,  740,  745,  750,  755,\n",
              "         760,  765,  770,  775,  780,  785,  790,  795,  800,  805,  810,\n",
              "         815,  820,  825,  830,  835,  840,  845,  850,  855,  860,  865,\n",
              "         870,  875,  880,  885,  890,  895,  900,  905,  910,  915,  920,\n",
              "         925,  930,  935,  940,  945,  950,  955,  960,  965,  970,  975,\n",
              "         980,  985,  990,  995, 1000, 1005, 1010, 1015, 1020, 1025, 1030,\n",
              "        1035, 1040, 1045, 1050, 1055, 1060, 1065, 1070, 1075, 1080, 1085,\n",
              "        1090, 1095], dtype=int32)>)"
            ]
          },
          "metadata": {},
          "execution_count": 35
        }
      ]
    },
    {
      "cell_type": "code",
      "metadata": {
        "id": "vy6PBS3h5JOU"
      },
      "source": [
        "x_reg_train=x_regression[:150]\n",
        "x_reg_test=x_regression[150:]\n",
        "y_reg_train=y_regression[:150]\n",
        "y_reg_test=y_regression[150:]\n",
        "\n",
        "\n",
        "#model_3.fit(x_reg_train,y_reg_train,epochs=100)"
      ],
      "execution_count": 38,
      "outputs": []
    },
    {
      "cell_type": "code",
      "metadata": {
        "colab": {
          "base_uri": "https://localhost:8080/"
        },
        "id": "Yr6cqq1cLaS1",
        "outputId": "7ee558c7-2567-44d3-a7ea-cf20f191dc08"
      },
      "source": [
        "tf.random.set_seed(42)\n",
        "\n",
        "model_4=tf.keras.Sequential(\n",
        "    tf.keras.layers.Dense(1,activation=tf.keras.activations.linear)\n",
        ")\n",
        "\n",
        "model_4.compile(loss='binary_crossentropy',\n",
        "                 optimizer=tf.keras.optimizers.Adam(lr=.001),\n",
        "            metrics=['accuracy'])\n",
        "\n",
        "history=model_4.fit(x,y,epochs=100)"
      ],
      "execution_count": 41,
      "outputs": [
        {
          "output_type": "stream",
          "name": "stderr",
          "text": [
            "/usr/local/lib/python3.7/dist-packages/keras/optimizer_v2/optimizer_v2.py:356: UserWarning: The `lr` argument is deprecated, use `learning_rate` instead.\n",
            "  \"The `lr` argument is deprecated, use `learning_rate` instead.\")\n"
          ]
        },
        {
          "output_type": "stream",
          "name": "stdout",
          "text": [
            "Epoch 1/100\n",
            "32/32 [==============================] - 0s 1ms/step - loss: 4.2979 - accuracy: 0.4670\n",
            "Epoch 2/100\n",
            "32/32 [==============================] - 0s 1ms/step - loss: 4.2317 - accuracy: 0.4400\n",
            "Epoch 3/100\n",
            "32/32 [==============================] - 0s 1ms/step - loss: 4.1610 - accuracy: 0.4310\n",
            "Epoch 4/100\n",
            "32/32 [==============================] - 0s 1ms/step - loss: 4.1183 - accuracy: 0.4270\n",
            "Epoch 5/100\n",
            "32/32 [==============================] - 0s 1ms/step - loss: 4.0784 - accuracy: 0.4240\n",
            "Epoch 6/100\n",
            "32/32 [==============================] - 0s 1ms/step - loss: 3.9604 - accuracy: 0.4170\n",
            "Epoch 7/100\n",
            "32/32 [==============================] - 0s 1ms/step - loss: 3.8936 - accuracy: 0.4110\n",
            "Epoch 8/100\n",
            "32/32 [==============================] - 0s 1ms/step - loss: 3.7818 - accuracy: 0.4140\n",
            "Epoch 9/100\n",
            "32/32 [==============================] - 0s 1ms/step - loss: 3.7564 - accuracy: 0.4140\n",
            "Epoch 10/100\n",
            "32/32 [==============================] - 0s 1ms/step - loss: 3.7547 - accuracy: 0.4150\n",
            "Epoch 11/100\n",
            "32/32 [==============================] - 0s 1ms/step - loss: 3.7537 - accuracy: 0.4140\n",
            "Epoch 12/100\n",
            "32/32 [==============================] - 0s 1ms/step - loss: 3.7526 - accuracy: 0.4140\n",
            "Epoch 13/100\n",
            "32/32 [==============================] - 0s 1ms/step - loss: 3.7518 - accuracy: 0.4140\n",
            "Epoch 14/100\n",
            "32/32 [==============================] - 0s 1ms/step - loss: 3.7510 - accuracy: 0.4140\n",
            "Epoch 15/100\n",
            "32/32 [==============================] - 0s 1ms/step - loss: 3.7503 - accuracy: 0.4130\n",
            "Epoch 16/100\n",
            "32/32 [==============================] - 0s 1ms/step - loss: 3.7497 - accuracy: 0.4130\n",
            "Epoch 17/100\n",
            "32/32 [==============================] - 0s 1ms/step - loss: 3.7490 - accuracy: 0.4130\n",
            "Epoch 18/100\n",
            "32/32 [==============================] - 0s 1ms/step - loss: 3.7484 - accuracy: 0.4130\n",
            "Epoch 19/100\n",
            "32/32 [==============================] - 0s 1ms/step - loss: 3.7478 - accuracy: 0.4120\n",
            "Epoch 20/100\n",
            "32/32 [==============================] - 0s 1ms/step - loss: 3.7472 - accuracy: 0.4120\n",
            "Epoch 21/100\n",
            "32/32 [==============================] - 0s 1ms/step - loss: 3.7466 - accuracy: 0.4110\n",
            "Epoch 22/100\n",
            "32/32 [==============================] - 0s 1ms/step - loss: 3.7461 - accuracy: 0.4110\n",
            "Epoch 23/100\n",
            "32/32 [==============================] - 0s 2ms/step - loss: 3.7455 - accuracy: 0.4110\n",
            "Epoch 24/100\n",
            "32/32 [==============================] - 0s 1ms/step - loss: 3.7450 - accuracy: 0.4110\n",
            "Epoch 25/100\n",
            "32/32 [==============================] - 0s 1ms/step - loss: 3.7366 - accuracy: 0.4120\n",
            "Epoch 26/100\n",
            "32/32 [==============================] - 0s 1ms/step - loss: 3.7256 - accuracy: 0.4120\n",
            "Epoch 27/100\n",
            "32/32 [==============================] - 0s 1ms/step - loss: 3.7230 - accuracy: 0.4140\n",
            "Epoch 28/100\n",
            "32/32 [==============================] - 0s 1ms/step - loss: 3.7215 - accuracy: 0.4140\n",
            "Epoch 29/100\n",
            "32/32 [==============================] - 0s 1ms/step - loss: 3.7204 - accuracy: 0.4150\n",
            "Epoch 30/100\n",
            "32/32 [==============================] - 0s 1ms/step - loss: 3.7196 - accuracy: 0.4160\n",
            "Epoch 31/100\n",
            "32/32 [==============================] - 0s 1ms/step - loss: 3.7188 - accuracy: 0.4170\n",
            "Epoch 32/100\n",
            "32/32 [==============================] - 0s 1ms/step - loss: 3.7181 - accuracy: 0.4170\n",
            "Epoch 33/100\n",
            "32/32 [==============================] - 0s 1ms/step - loss: 3.7174 - accuracy: 0.4170\n",
            "Epoch 34/100\n",
            "32/32 [==============================] - 0s 1ms/step - loss: 3.7167 - accuracy: 0.4170\n",
            "Epoch 35/100\n",
            "32/32 [==============================] - 0s 1ms/step - loss: 3.7161 - accuracy: 0.4160\n",
            "Epoch 36/100\n",
            "32/32 [==============================] - 0s 1ms/step - loss: 3.7153 - accuracy: 0.4150\n",
            "Epoch 37/100\n",
            "32/32 [==============================] - 0s 1ms/step - loss: 3.7147 - accuracy: 0.4150\n",
            "Epoch 38/100\n",
            "32/32 [==============================] - 0s 1ms/step - loss: 3.7141 - accuracy: 0.4150\n",
            "Epoch 39/100\n",
            "32/32 [==============================] - 0s 1ms/step - loss: 3.7135 - accuracy: 0.4150\n",
            "Epoch 40/100\n",
            "32/32 [==============================] - 0s 1ms/step - loss: 3.7129 - accuracy: 0.4150\n",
            "Epoch 41/100\n",
            "32/32 [==============================] - 0s 1ms/step - loss: 3.7123 - accuracy: 0.4150\n",
            "Epoch 42/100\n",
            "32/32 [==============================] - 0s 1ms/step - loss: 3.7118 - accuracy: 0.4160\n",
            "Epoch 43/100\n",
            "32/32 [==============================] - 0s 1ms/step - loss: 3.7112 - accuracy: 0.4160\n",
            "Epoch 44/100\n",
            "32/32 [==============================] - 0s 2ms/step - loss: 3.7107 - accuracy: 0.4160\n",
            "Epoch 45/100\n",
            "32/32 [==============================] - 0s 1ms/step - loss: 3.7101 - accuracy: 0.4150\n",
            "Epoch 46/100\n",
            "32/32 [==============================] - 0s 2ms/step - loss: 3.7096 - accuracy: 0.4170\n",
            "Epoch 47/100\n",
            "32/32 [==============================] - 0s 2ms/step - loss: 3.7091 - accuracy: 0.4170\n",
            "Epoch 48/100\n",
            "32/32 [==============================] - 0s 1ms/step - loss: 3.7014 - accuracy: 0.4170\n",
            "Epoch 49/100\n",
            "32/32 [==============================] - 0s 1ms/step - loss: 3.6892 - accuracy: 0.4190\n",
            "Epoch 50/100\n",
            "32/32 [==============================] - 0s 1ms/step - loss: 3.6856 - accuracy: 0.4190\n",
            "Epoch 51/100\n",
            "32/32 [==============================] - 0s 2ms/step - loss: 3.6846 - accuracy: 0.4190\n",
            "Epoch 52/100\n",
            "32/32 [==============================] - 0s 2ms/step - loss: 3.6837 - accuracy: 0.4190\n",
            "Epoch 53/100\n",
            "32/32 [==============================] - 0s 1ms/step - loss: 3.6829 - accuracy: 0.4190\n",
            "Epoch 54/100\n",
            "32/32 [==============================] - 0s 1ms/step - loss: 3.6821 - accuracy: 0.4190\n",
            "Epoch 55/100\n",
            "32/32 [==============================] - 0s 1ms/step - loss: 3.6814 - accuracy: 0.4190\n",
            "Epoch 56/100\n",
            "32/32 [==============================] - 0s 1ms/step - loss: 3.6807 - accuracy: 0.4200\n",
            "Epoch 57/100\n",
            "32/32 [==============================] - 0s 1ms/step - loss: 3.6727 - accuracy: 0.4210\n",
            "Epoch 58/100\n",
            "32/32 [==============================] - 0s 1ms/step - loss: 3.6690 - accuracy: 0.4190\n",
            "Epoch 59/100\n",
            "32/32 [==============================] - 0s 1ms/step - loss: 3.6677 - accuracy: 0.4190\n",
            "Epoch 60/100\n",
            "32/32 [==============================] - 0s 1ms/step - loss: 3.6585 - accuracy: 0.4190\n",
            "Epoch 61/100\n",
            "32/32 [==============================] - 0s 1ms/step - loss: 3.6489 - accuracy: 0.4200\n",
            "Epoch 62/100\n",
            "32/32 [==============================] - 0s 1ms/step - loss: 3.6330 - accuracy: 0.4190\n",
            "Epoch 63/100\n",
            "32/32 [==============================] - 0s 1ms/step - loss: 3.6282 - accuracy: 0.4200\n",
            "Epoch 64/100\n",
            "32/32 [==============================] - 0s 1ms/step - loss: 3.6162 - accuracy: 0.4220\n",
            "Epoch 65/100\n",
            "32/32 [==============================] - 0s 1ms/step - loss: 3.6062 - accuracy: 0.4240\n",
            "Epoch 66/100\n",
            "32/32 [==============================] - 0s 1ms/step - loss: 3.6031 - accuracy: 0.4260\n",
            "Epoch 67/100\n",
            "32/32 [==============================] - 0s 1ms/step - loss: 3.6012 - accuracy: 0.4280\n",
            "Epoch 68/100\n",
            "32/32 [==============================] - 0s 1ms/step - loss: 3.5999 - accuracy: 0.4280\n",
            "Epoch 69/100\n",
            "32/32 [==============================] - 0s 1ms/step - loss: 3.5904 - accuracy: 0.4290\n",
            "Epoch 70/100\n",
            "32/32 [==============================] - 0s 2ms/step - loss: 3.5858 - accuracy: 0.4300\n",
            "Epoch 71/100\n",
            "32/32 [==============================] - 0s 1ms/step - loss: 3.5846 - accuracy: 0.4300\n",
            "Epoch 72/100\n",
            "32/32 [==============================] - 0s 1ms/step - loss: 3.5836 - accuracy: 0.4300\n",
            "Epoch 73/100\n",
            "32/32 [==============================] - 0s 1ms/step - loss: 3.5826 - accuracy: 0.4310\n",
            "Epoch 74/100\n",
            "32/32 [==============================] - 0s 1ms/step - loss: 3.5817 - accuracy: 0.4330\n",
            "Epoch 75/100\n",
            "32/32 [==============================] - 0s 1ms/step - loss: 3.5656 - accuracy: 0.4360\n",
            "Epoch 76/100\n",
            "32/32 [==============================] - 0s 1ms/step - loss: 3.5355 - accuracy: 0.4410\n",
            "Epoch 77/100\n",
            "32/32 [==============================] - 0s 1ms/step - loss: 3.5335 - accuracy: 0.4410\n",
            "Epoch 78/100\n",
            "32/32 [==============================] - 0s 1ms/step - loss: 3.5319 - accuracy: 0.4420\n",
            "Epoch 79/100\n",
            "32/32 [==============================] - 0s 1ms/step - loss: 3.5306 - accuracy: 0.4420\n",
            "Epoch 80/100\n",
            "32/32 [==============================] - 0s 1ms/step - loss: 3.5208 - accuracy: 0.4420\n",
            "Epoch 81/100\n",
            "32/32 [==============================] - 0s 1ms/step - loss: 3.5172 - accuracy: 0.4420\n",
            "Epoch 82/100\n",
            "32/32 [==============================] - 0s 1ms/step - loss: 3.5157 - accuracy: 0.4430\n",
            "Epoch 83/100\n",
            "32/32 [==============================] - 0s 1ms/step - loss: 3.5144 - accuracy: 0.4450\n",
            "Epoch 84/100\n",
            "32/32 [==============================] - 0s 2ms/step - loss: 3.5132 - accuracy: 0.4450\n",
            "Epoch 85/100\n",
            "32/32 [==============================] - 0s 1ms/step - loss: 3.5043 - accuracy: 0.4460\n",
            "Epoch 86/100\n",
            "32/32 [==============================] - 0s 1ms/step - loss: 3.5002 - accuracy: 0.4470\n",
            "Epoch 87/100\n",
            "32/32 [==============================] - 0s 1ms/step - loss: 3.4905 - accuracy: 0.4470\n",
            "Epoch 88/100\n",
            "32/32 [==============================] - 0s 1ms/step - loss: 3.4788 - accuracy: 0.4470\n",
            "Epoch 89/100\n",
            "32/32 [==============================] - 0s 1ms/step - loss: 3.4661 - accuracy: 0.4470\n",
            "Epoch 90/100\n",
            "32/32 [==============================] - 0s 1ms/step - loss: 3.4452 - accuracy: 0.4490\n",
            "Epoch 91/100\n",
            "32/32 [==============================] - 0s 1ms/step - loss: 3.4198 - accuracy: 0.4560\n",
            "Epoch 92/100\n",
            "32/32 [==============================] - 0s 1ms/step - loss: 3.4176 - accuracy: 0.4550\n",
            "Epoch 93/100\n",
            "32/32 [==============================] - 0s 1ms/step - loss: 3.4072 - accuracy: 0.4580\n",
            "Epoch 94/100\n",
            "32/32 [==============================] - 0s 1ms/step - loss: 3.4036 - accuracy: 0.4580\n",
            "Epoch 95/100\n",
            "32/32 [==============================] - 0s 2ms/step - loss: 3.3944 - accuracy: 0.4590\n",
            "Epoch 96/100\n",
            "32/32 [==============================] - 0s 1ms/step - loss: 3.3290 - accuracy: 0.4590\n",
            "Epoch 97/100\n",
            "32/32 [==============================] - 0s 1ms/step - loss: 3.2727 - accuracy: 0.4600\n",
            "Epoch 98/100\n",
            "32/32 [==============================] - 0s 1ms/step - loss: 3.2636 - accuracy: 0.4580\n",
            "Epoch 99/100\n",
            "32/32 [==============================] - 0s 1ms/step - loss: 3.2509 - accuracy: 0.4570\n",
            "Epoch 100/100\n",
            "32/32 [==============================] - 0s 1ms/step - loss: 3.2459 - accuracy: 0.4570\n"
          ]
        }
      ]
    },
    {
      "cell_type": "code",
      "metadata": {
        "colab": {
          "base_uri": "https://localhost:8080/",
          "height": 265
        },
        "id": "Y8IJcLgMM4F5",
        "outputId": "317a05ea-8f10-41fd-ecfd-703c0891c68e"
      },
      "source": [
        " # visulaizee\n",
        "\n",
        " plt.scatter(x[:,0],x[:,1],c=y,cmap=plt.cm.RdYlBu);"
      ],
      "execution_count": 43,
      "outputs": [
        {
          "output_type": "display_data",
          "data": {
            "image/png": "[encoded data removed]",
            "text/plain": [
              "<Figure size 432x288 with 1 Axes>"
            ]
          },
          "metadata": {
            "needs_background": "light"
          }
        }
      ]
    },
    {
      "cell_type": "code",
      "metadata": {
        "colab": {
          "base_uri": "https://localhost:8080/",
          "height": 282
        },
        "id": "PU_gpBF1NX3J",
        "outputId": "db7fcf91-1f89-453c-b417-a9e206a1f2c5"
      },
      "source": [
        "plot_decision_boundary(model =model_4,\n",
        "                            x=x,y=y)"
      ],
      "execution_count": 45,
      "outputs": [
        {
          "output_type": "stream",
          "name": "stdout",
          "text": [
            "doing binary classifcation...\n"
          ]
        },
        {
          "output_type": "display_data",
          "data": {
            "image/png": "[encoded data removed]",
            "text/plain": [
              "<Figure size 432x288 with 1 Axes>"
            ]
          },
          "metadata": {
            "needs_background": "light"
          }
        }
      ]
    },
    {
      "cell_type": "code",
      "metadata": {
        "colab": {
          "base_uri": "https://localhost:8080/"
        },
        "id": "-dRCTHVVNytj",
        "outputId": "bf5bbe14-1774-4001-8804-756b3381e6d9"
      },
      "source": [
        "# With non-linear activation\n",
        "\n",
        "tf.random.set_seed(42)\n",
        "\n",
        "model_5=tf.keras.Sequential([\n",
        "                             tf.keras.layers.Dense(1,activation=tf.keras.activations.relu)\n",
        "])\n",
        "\n",
        "model_5.compile(loss=tf.keras.losses.BinaryCrossentropy(),\n",
        "                optimizer=tf.keras.optimizers.Adam(lr=0.001),\n",
        "                metrics=['accuracy'])\n",
        "\n",
        "history=model_5.fit(x,y,epochs=100)"
      ],
      "execution_count": 47,
      "outputs": [
        {
          "output_type": "stream",
          "name": "stderr",
          "text": [
            "/usr/local/lib/python3.7/dist-packages/keras/optimizer_v2/optimizer_v2.py:356: UserWarning: The `lr` argument is deprecated, use `learning_rate` instead.\n",
            "  \"The `lr` argument is deprecated, use `learning_rate` instead.\")\n"
          ]
        },
        {
          "output_type": "stream",
          "name": "stdout",
          "text": [
            "Epoch 1/100\n",
            "32/32 [==============================] - 1s 2ms/step - loss: 4.2979 - accuracy: 0.4670\n",
            "Epoch 2/100\n",
            "32/32 [==============================] - 0s 1ms/step - loss: 4.2317 - accuracy: 0.4400\n",
            "Epoch 3/100\n",
            "32/32 [==============================] - 0s 1ms/step - loss: 4.1610 - accuracy: 0.4310\n",
            "Epoch 4/100\n",
            "32/32 [==============================] - 0s 2ms/step - loss: 4.1183 - accuracy: 0.4270\n",
            "Epoch 5/100\n",
            "32/32 [==============================] - 0s 1ms/step - loss: 4.0784 - accuracy: 0.4240\n",
            "Epoch 6/100\n",
            "32/32 [==============================] - 0s 1ms/step - loss: 3.9604 - accuracy: 0.4170\n",
            "Epoch 7/100\n",
            "32/32 [==============================] - 0s 1ms/step - loss: 3.8936 - accuracy: 0.4110\n",
            "Epoch 8/100\n",
            "32/32 [==============================] - 0s 2ms/step - loss: 3.7818 - accuracy: 0.4140\n",
            "Epoch 9/100\n",
            "32/32 [==============================] - 0s 2ms/step - loss: 3.7564 - accuracy: 0.4140\n",
            "Epoch 10/100\n",
            "32/32 [==============================] - 0s 2ms/step - loss: 3.7547 - accuracy: 0.4150\n",
            "Epoch 11/100\n",
            "32/32 [==============================] - 0s 1ms/step - loss: 3.7537 - accuracy: 0.4140\n",
            "Epoch 12/100\n",
            "32/32 [==============================] - 0s 2ms/step - loss: 3.7526 - accuracy: 0.4140\n",
            "Epoch 13/100\n",
            "32/32 [==============================] - 0s 1ms/step - loss: 3.7518 - accuracy: 0.4140\n",
            "Epoch 14/100\n",
            "32/32 [==============================] - 0s 2ms/step - loss: 3.7510 - accuracy: 0.4140\n",
            "Epoch 15/100\n",
            "32/32 [==============================] - 0s 1ms/step - loss: 3.7503 - accuracy: 0.4130\n",
            "Epoch 16/100\n",
            "32/32 [==============================] - 0s 2ms/step - loss: 3.7497 - accuracy: 0.4130\n",
            "Epoch 17/100\n",
            "32/32 [==============================] - 0s 1ms/step - loss: 3.7490 - accuracy: 0.4130\n",
            "Epoch 18/100\n",
            "32/32 [==============================] - 0s 1ms/step - loss: 3.7484 - accuracy: 0.4130\n",
            "Epoch 19/100\n",
            "32/32 [==============================] - 0s 1ms/step - loss: 3.7478 - accuracy: 0.4120\n",
            "Epoch 20/100\n",
            "32/32 [==============================] - 0s 1ms/step - loss: 3.7472 - accuracy: 0.4120\n",
            "Epoch 21/100\n",
            "32/32 [==============================] - 0s 1ms/step - loss: 3.7466 - accuracy: 0.4110\n",
            "Epoch 22/100\n",
            "32/32 [==============================] - 0s 1ms/step - loss: 3.7461 - accuracy: 0.4110\n",
            "Epoch 23/100\n",
            "32/32 [==============================] - 0s 2ms/step - loss: 3.7455 - accuracy: 0.4110\n",
            "Epoch 24/100\n",
            "32/32 [==============================] - 0s 1ms/step - loss: 3.7450 - accuracy: 0.4110\n",
            "Epoch 25/100\n",
            "32/32 [==============================] - 0s 2ms/step - loss: 3.7366 - accuracy: 0.4120\n",
            "Epoch 26/100\n",
            "32/32 [==============================] - 0s 1ms/step - loss: 3.7256 - accuracy: 0.4120\n",
            "Epoch 27/100\n",
            "32/32 [==============================] - 0s 2ms/step - loss: 3.7230 - accuracy: 0.4140\n",
            "Epoch 28/100\n",
            "32/32 [==============================] - 0s 2ms/step - loss: 3.7215 - accuracy: 0.4140\n",
            "Epoch 29/100\n",
            "32/32 [==============================] - 0s 2ms/step - loss: 3.7204 - accuracy: 0.4150\n",
            "Epoch 30/100\n",
            "32/32 [==============================] - 0s 2ms/step - loss: 3.7196 - accuracy: 0.4160\n",
            "Epoch 31/100\n",
            "32/32 [==============================] - 0s 2ms/step - loss: 3.7188 - accuracy: 0.4170\n",
            "Epoch 32/100\n",
            "32/32 [==============================] - 0s 1ms/step - loss: 3.7181 - accuracy: 0.4170\n",
            "Epoch 33/100\n",
            "32/32 [==============================] - 0s 1ms/step - loss: 3.7174 - accuracy: 0.4170\n",
            "Epoch 34/100\n",
            "32/32 [==============================] - 0s 2ms/step - loss: 3.7167 - accuracy: 0.4170\n",
            "Epoch 35/100\n",
            "32/32 [==============================] - 0s 1ms/step - loss: 3.7161 - accuracy: 0.4160\n",
            "Epoch 36/100\n",
            "32/32 [==============================] - 0s 1ms/step - loss: 3.7153 - accuracy: 0.4150\n",
            "Epoch 37/100\n",
            "32/32 [==============================] - 0s 1ms/step - loss: 3.7147 - accuracy: 0.4150\n",
            "Epoch 38/100\n",
            "32/32 [==============================] - 0s 1ms/step - loss: 3.7141 - accuracy: 0.4150\n",
            "Epoch 39/100\n",
            "32/32 [==============================] - 0s 1ms/step - loss: 3.7135 - accuracy: 0.4150\n",
            "Epoch 40/100\n",
            "32/32 [==============================] - 0s 1ms/step - loss: 3.7129 - accuracy: 0.4150\n",
            "Epoch 41/100\n",
            "32/32 [==============================] - 0s 2ms/step - loss: 3.7123 - accuracy: 0.4150\n",
            "Epoch 42/100\n",
            "32/32 [==============================] - 0s 1ms/step - loss: 3.7118 - accuracy: 0.4160\n",
            "Epoch 43/100\n",
            "32/32 [==============================] - 0s 1ms/step - loss: 3.7112 - accuracy: 0.4160\n",
            "Epoch 44/100\n",
            "32/32 [==============================] - 0s 2ms/step - loss: 3.7107 - accuracy: 0.4160\n",
            "Epoch 45/100\n",
            "32/32 [==============================] - 0s 2ms/step - loss: 3.7101 - accuracy: 0.4150\n",
            "Epoch 46/100\n",
            "32/32 [==============================] - 0s 1ms/step - loss: 3.7096 - accuracy: 0.4170\n",
            "Epoch 47/100\n",
            "32/32 [==============================] - 0s 1ms/step - loss: 3.7091 - accuracy: 0.4170\n",
            "Epoch 48/100\n",
            "32/32 [==============================] - 0s 2ms/step - loss: 3.7014 - accuracy: 0.4170\n",
            "Epoch 49/100\n",
            "32/32 [==============================] - 0s 1ms/step - loss: 3.6892 - accuracy: 0.4190\n",
            "Epoch 50/100\n",
            "32/32 [==============================] - 0s 1ms/step - loss: 3.6856 - accuracy: 0.4190\n",
            "Epoch 51/100\n",
            "32/32 [==============================] - 0s 1ms/step - loss: 3.6846 - accuracy: 0.4190\n",
            "Epoch 52/100\n",
            "32/32 [==============================] - 0s 2ms/step - loss: 3.6837 - accuracy: 0.4190\n",
            "Epoch 53/100\n",
            "32/32 [==============================] - 0s 1ms/step - loss: 3.6829 - accuracy: 0.4190\n",
            "Epoch 54/100\n",
            "32/32 [==============================] - 0s 2ms/step - loss: 3.6821 - accuracy: 0.4190\n",
            "Epoch 55/100\n",
            "32/32 [==============================] - 0s 2ms/step - loss: 3.6814 - accuracy: 0.4190\n",
            "Epoch 56/100\n",
            "32/32 [==============================] - 0s 1ms/step - loss: 3.6807 - accuracy: 0.4200\n",
            "Epoch 57/100\n",
            "32/32 [==============================] - 0s 2ms/step - loss: 3.6727 - accuracy: 0.4210\n",
            "Epoch 58/100\n",
            "32/32 [==============================] - 0s 1ms/step - loss: 3.6690 - accuracy: 0.4190\n",
            "Epoch 59/100\n",
            "32/32 [==============================] - 0s 1ms/step - loss: 3.6677 - accuracy: 0.4190\n",
            "Epoch 60/100\n",
            "32/32 [==============================] - 0s 1ms/step - loss: 3.6585 - accuracy: 0.4190\n",
            "Epoch 61/100\n",
            "32/32 [==============================] - 0s 1ms/step - loss: 3.6489 - accuracy: 0.4200\n",
            "Epoch 62/100\n",
            "32/32 [==============================] - 0s 1ms/step - loss: 3.6330 - accuracy: 0.4190\n",
            "Epoch 63/100\n",
            "32/32 [==============================] - 0s 1ms/step - loss: 3.6282 - accuracy: 0.4200\n",
            "Epoch 64/100\n",
            "32/32 [==============================] - 0s 1ms/step - loss: 3.6162 - accuracy: 0.4220\n",
            "Epoch 65/100\n",
            "32/32 [==============================] - 0s 1ms/step - loss: 3.6062 - accuracy: 0.4240\n",
            "Epoch 66/100\n",
            "32/32 [==============================] - 0s 2ms/step - loss: 3.6031 - accuracy: 0.4260\n",
            "Epoch 67/100\n",
            "32/32 [==============================] - 0s 1ms/step - loss: 3.6012 - accuracy: 0.4280\n",
            "Epoch 68/100\n",
            "32/32 [==============================] - 0s 1ms/step - loss: 3.5999 - accuracy: 0.4280\n",
            "Epoch 69/100\n",
            "32/32 [==============================] - 0s 1ms/step - loss: 3.5904 - accuracy: 0.4290\n",
            "Epoch 70/100\n",
            "32/32 [==============================] - 0s 1ms/step - loss: 3.5858 - accuracy: 0.4300\n",
            "Epoch 71/100\n",
            "32/32 [==============================] - 0s 1ms/step - loss: 3.5846 - accuracy: 0.4300\n",
            "Epoch 72/100\n",
            "32/32 [==============================] - 0s 1ms/step - loss: 3.5836 - accuracy: 0.4300\n",
            "Epoch 73/100\n",
            "32/32 [==============================] - 0s 2ms/step - loss: 3.5826 - accuracy: 0.4310\n",
            "Epoch 74/100\n",
            "32/32 [==============================] - 0s 1ms/step - loss: 3.5817 - accuracy: 0.4330\n",
            "Epoch 75/100\n",
            "32/32 [==============================] - 0s 2ms/step - loss: 3.5656 - accuracy: 0.4360\n",
            "Epoch 76/100\n",
            "32/32 [==============================] - 0s 1ms/step - loss: 3.5355 - accuracy: 0.4410\n",
            "Epoch 77/100\n",
            "32/32 [==============================] - 0s 1ms/step - loss: 3.5335 - accuracy: 0.4410\n",
            "Epoch 78/100\n",
            "32/32 [==============================] - 0s 1ms/step - loss: 3.5319 - accuracy: 0.4420\n",
            "Epoch 79/100\n",
            "32/32 [==============================] - 0s 1ms/step - loss: 3.5306 - accuracy: 0.4420\n",
            "Epoch 80/100\n",
            "32/32 [==============================] - 0s 2ms/step - loss: 3.5208 - accuracy: 0.4420\n",
            "Epoch 81/100\n",
            "32/32 [==============================] - 0s 1ms/step - loss: 3.5172 - accuracy: 0.4420\n",
            "Epoch 82/100\n",
            "32/32 [==============================] - 0s 2ms/step - loss: 3.5157 - accuracy: 0.4430\n",
            "Epoch 83/100\n",
            "32/32 [==============================] - 0s 1ms/step - loss: 3.5144 - accuracy: 0.4450\n",
            "Epoch 84/100\n",
            "32/32 [==============================] - 0s 1ms/step - loss: 3.5132 - accuracy: 0.4450\n",
            "Epoch 85/100\n",
            "32/32 [==============================] - 0s 1ms/step - loss: 3.5043 - accuracy: 0.4460\n",
            "Epoch 86/100\n",
            "32/32 [==============================] - 0s 1ms/step - loss: 3.5002 - accuracy: 0.4470\n",
            "Epoch 87/100\n",
            "32/32 [==============================] - 0s 1ms/step - loss: 3.4905 - accuracy: 0.4470\n",
            "Epoch 88/100\n",
            "32/32 [==============================] - 0s 1ms/step - loss: 3.4788 - accuracy: 0.4470\n",
            "Epoch 89/100\n",
            "32/32 [==============================] - 0s 1ms/step - loss: 3.4661 - accuracy: 0.4470\n",
            "Epoch 90/100\n",
            "32/32 [==============================] - 0s 2ms/step - loss: 3.4452 - accuracy: 0.4490\n",
            "Epoch 91/100\n",
            "32/32 [==============================] - 0s 1ms/step - loss: 3.4198 - accuracy: 0.4560\n",
            "Epoch 92/100\n",
            "32/32 [==============================] - 0s 1ms/step - loss: 3.4176 - accuracy: 0.4550\n",
            "Epoch 93/100\n",
            "32/32 [==============================] - 0s 1ms/step - loss: 3.4072 - accuracy: 0.4580\n",
            "Epoch 94/100\n",
            "32/32 [==============================] - 0s 1ms/step - loss: 3.4036 - accuracy: 0.4580\n",
            "Epoch 95/100\n",
            "32/32 [==============================] - 0s 1ms/step - loss: 3.3944 - accuracy: 0.4590\n",
            "Epoch 96/100\n",
            "32/32 [==============================] - 0s 1ms/step - loss: 3.3290 - accuracy: 0.4590\n",
            "Epoch 97/100\n",
            "32/32 [==============================] - 0s 1ms/step - loss: 3.2727 - accuracy: 0.4600\n",
            "Epoch 98/100\n",
            "32/32 [==============================] - 0s 1ms/step - loss: 3.2636 - accuracy: 0.4580\n",
            "Epoch 99/100\n",
            "32/32 [==============================] - 0s 1ms/step - loss: 3.2509 - accuracy: 0.4570\n",
            "Epoch 100/100\n",
            "32/32 [==============================] - 0s 1ms/step - loss: 3.2459 - accuracy: 0.4570\n"
          ]
        }
      ]
    },
    {
      "cell_type": "code",
      "metadata": {
        "colab": {
          "base_uri": "https://localhost:8080/"
        },
        "id": "010nGUacU8OS",
        "outputId": "d4665b5c-a380-44d8-951f-6d935b0ae799"
      },
      "source": [
        "# Multi-layer neural Network \n",
        "\n",
        "tf.random.set_seed(42)\n",
        "\n",
        "model_6=tf.keras.Sequential([tf.keras.layers.Dense(4,activation='relu'),\n",
        "                             tf.keras.layers.Dense(4,activation='relu'),\n",
        "                             tf.keras.layers.Dense(1)]\n",
        ")\n",
        "\n",
        "model_6.compile(loss='binary_crossentropy',\n",
        "                optimizer=tf.keras.optimizers.Adam(lr=.01),\n",
        "                metrics=['accuracy'])\n",
        "\n",
        "history=model_6.fit(x,y,epochs=200)"
      ],
      "execution_count": 55,
      "outputs": [
        {
          "output_type": "stream",
          "name": "stderr",
          "text": [
            "/usr/local/lib/python3.7/dist-packages/keras/optimizer_v2/optimizer_v2.py:356: UserWarning: The `lr` argument is deprecated, use `learning_rate` instead.\n",
            "  \"The `lr` argument is deprecated, use `learning_rate` instead.\")\n"
          ]
        },
        {
          "output_type": "stream",
          "name": "stdout",
          "text": [
            "Epoch 1/200\n",
            "32/32 [==============================] - 1s 2ms/step - loss: 7.7125 - accuracy: 0.5000\n",
            "Epoch 2/200\n",
            "32/32 [==============================] - 0s 1ms/step - loss: 7.7125 - accuracy: 0.5000\n",
            "Epoch 3/200\n",
            "32/32 [==============================] - 0s 2ms/step - loss: 7.7125 - accuracy: 0.5000\n",
            "Epoch 4/200\n",
            "32/32 [==============================] - 0s 2ms/step - loss: 7.7125 - accuracy: 0.5000\n",
            "Epoch 5/200\n",
            "32/32 [==============================] - 0s 1ms/step - loss: 7.7125 - accuracy: 0.5000\n",
            "Epoch 6/200\n",
            "32/32 [==============================] - 0s 1ms/step - loss: 7.7125 - accuracy: 0.5000\n",
            "Epoch 7/200\n",
            "32/32 [==============================] - 0s 1ms/step - loss: 7.7125 - accuracy: 0.5000\n",
            "Epoch 8/200\n",
            "32/32 [==============================] - 0s 1ms/step - loss: 7.7125 - accuracy: 0.5000\n",
            "Epoch 9/200\n",
            "32/32 [==============================] - 0s 2ms/step - loss: 7.7125 - accuracy: 0.5000\n",
            "Epoch 10/200\n",
            "32/32 [==============================] - 0s 2ms/step - loss: 7.7125 - accuracy: 0.5000\n",
            "Epoch 11/200\n",
            "32/32 [==============================] - 0s 2ms/step - loss: 7.7125 - accuracy: 0.5000\n",
            "Epoch 12/200\n",
            "32/32 [==============================] - 0s 1ms/step - loss: 7.7125 - accuracy: 0.5000\n",
            "Epoch 13/200\n",
            "32/32 [==============================] - 0s 2ms/step - loss: 7.7125 - accuracy: 0.5000\n",
            "Epoch 14/200\n",
            "32/32 [==============================] - 0s 1ms/step - loss: 7.7125 - accuracy: 0.5000\n",
            "Epoch 15/200\n",
            "32/32 [==============================] - 0s 1ms/step - loss: 7.7125 - accuracy: 0.5000\n",
            "Epoch 16/200\n",
            "32/32 [==============================] - 0s 2ms/step - loss: 7.7125 - accuracy: 0.5000\n",
            "Epoch 17/200\n",
            "32/32 [==============================] - 0s 2ms/step - loss: 7.7125 - accuracy: 0.5000\n",
            "Epoch 18/200\n",
            "32/32 [==============================] - 0s 1ms/step - loss: 7.7125 - accuracy: 0.5000\n",
            "Epoch 19/200\n",
            "32/32 [==============================] - 0s 1ms/step - loss: 7.7125 - accuracy: 0.5000\n",
            "Epoch 20/200\n",
            "32/32 [==============================] - 0s 1ms/step - loss: 7.7125 - accuracy: 0.5000\n",
            "Epoch 21/200\n",
            "32/32 [==============================] - 0s 1ms/step - loss: 7.7125 - accuracy: 0.5000\n",
            "Epoch 22/200\n",
            "32/32 [==============================] - 0s 1ms/step - loss: 7.7125 - accuracy: 0.5000\n",
            "Epoch 23/200\n",
            "32/32 [==============================] - 0s 1ms/step - loss: 7.7125 - accuracy: 0.5000\n",
            "Epoch 24/200\n",
            "32/32 [==============================] - 0s 2ms/step - loss: 7.7125 - accuracy: 0.5000\n",
            "Epoch 25/200\n",
            "32/32 [==============================] - 0s 2ms/step - loss: 7.7125 - accuracy: 0.5000\n",
            "Epoch 26/200\n",
            "32/32 [==============================] - 0s 1ms/step - loss: 7.7125 - accuracy: 0.5000\n",
            "Epoch 27/200\n",
            "32/32 [==============================] - 0s 1ms/step - loss: 7.7125 - accuracy: 0.5000\n",
            "Epoch 28/200\n",
            "32/32 [==============================] - 0s 1ms/step - loss: 7.7125 - accuracy: 0.5000\n",
            "Epoch 29/200\n",
            "32/32 [==============================] - 0s 1ms/step - loss: 7.7125 - accuracy: 0.5000\n",
            "Epoch 30/200\n",
            "32/32 [==============================] - 0s 1ms/step - loss: 7.7125 - accuracy: 0.5000\n",
            "Epoch 31/200\n",
            "32/32 [==============================] - 0s 1ms/step - loss: 7.7125 - accuracy: 0.5000\n",
            "Epoch 32/200\n",
            "32/32 [==============================] - 0s 2ms/step - loss: 7.7125 - accuracy: 0.5000\n",
            "Epoch 33/200\n",
            "32/32 [==============================] - 0s 1ms/step - loss: 7.7125 - accuracy: 0.5000\n",
            "Epoch 34/200\n",
            "32/32 [==============================] - 0s 1ms/step - loss: 7.7125 - accuracy: 0.5000\n",
            "Epoch 35/200\n",
            "32/32 [==============================] - 0s 1ms/step - loss: 7.7125 - accuracy: 0.5000\n",
            "Epoch 36/200\n",
            "32/32 [==============================] - 0s 1ms/step - loss: 7.7125 - accuracy: 0.5000\n",
            "Epoch 37/200\n",
            "32/32 [==============================] - 0s 1ms/step - loss: 7.7125 - accuracy: 0.5000\n",
            "Epoch 38/200\n",
            "32/32 [==============================] - 0s 2ms/step - loss: 7.7125 - accuracy: 0.5000\n",
            "Epoch 39/200\n",
            "32/32 [==============================] - 0s 1ms/step - loss: 7.7125 - accuracy: 0.5000\n",
            "Epoch 40/200\n",
            "32/32 [==============================] - 0s 1ms/step - loss: 7.7125 - accuracy: 0.5000\n",
            "Epoch 41/200\n",
            "32/32 [==============================] - 0s 2ms/step - loss: 7.7125 - accuracy: 0.5000\n",
            "Epoch 42/200\n",
            "32/32 [==============================] - 0s 2ms/step - loss: 7.7125 - accuracy: 0.5000\n",
            "Epoch 43/200\n",
            "32/32 [==============================] - 0s 1ms/step - loss: 7.7125 - accuracy: 0.5000\n",
            "Epoch 44/200\n",
            "32/32 [==============================] - 0s 1ms/step - loss: 7.7125 - accuracy: 0.5000\n",
            "Epoch 45/200\n",
            "32/32 [==============================] - 0s 1ms/step - loss: 7.7125 - accuracy: 0.5000\n",
            "Epoch 46/200\n",
            "32/32 [==============================] - 0s 1ms/step - loss: 7.7125 - accuracy: 0.5000\n",
            "Epoch 47/200\n",
            "32/32 [==============================] - 0s 1ms/step - loss: 7.7125 - accuracy: 0.5000\n",
            "Epoch 48/200\n",
            "32/32 [==============================] - 0s 1ms/step - loss: 7.7125 - accuracy: 0.5000\n",
            "Epoch 49/200\n",
            "32/32 [==============================] - 0s 1ms/step - loss: 7.7125 - accuracy: 0.5000\n",
            "Epoch 50/200\n",
            "32/32 [==============================] - 0s 2ms/step - loss: 7.7125 - accuracy: 0.5000\n",
            "Epoch 51/200\n",
            "32/32 [==============================] - 0s 2ms/step - loss: 7.7125 - accuracy: 0.5000\n",
            "Epoch 52/200\n",
            "32/32 [==============================] - 0s 1ms/step - loss: 7.7125 - accuracy: 0.5000\n",
            "Epoch 53/200\n",
            "32/32 [==============================] - 0s 1ms/step - loss: 7.7125 - accuracy: 0.5000\n",
            "Epoch 54/200\n",
            "32/32 [==============================] - 0s 1ms/step - loss: 7.7125 - accuracy: 0.5000\n",
            "Epoch 55/200\n",
            "32/32 [==============================] - 0s 1ms/step - loss: 7.7125 - accuracy: 0.5000\n",
            "Epoch 56/200\n",
            "32/32 [==============================] - 0s 1ms/step - loss: 7.7125 - accuracy: 0.5000\n",
            "Epoch 57/200\n",
            "32/32 [==============================] - 0s 1ms/step - loss: 7.7125 - accuracy: 0.5000\n",
            "Epoch 58/200\n",
            "32/32 [==============================] - 0s 2ms/step - loss: 7.7125 - accuracy: 0.5000\n",
            "Epoch 59/200\n",
            "32/32 [==============================] - 0s 2ms/step - loss: 7.7125 - accuracy: 0.5000\n",
            "Epoch 60/200\n",
            "32/32 [==============================] - 0s 1ms/step - loss: 7.7125 - accuracy: 0.5000\n",
            "Epoch 61/200\n",
            "32/32 [==============================] - 0s 1ms/step - loss: 7.7125 - accuracy: 0.5000\n",
            "Epoch 62/200\n",
            "32/32 [==============================] - 0s 1ms/step - loss: 7.7125 - accuracy: 0.5000\n",
            "Epoch 63/200\n",
            "32/32 [==============================] - 0s 1ms/step - loss: 7.7125 - accuracy: 0.5000\n",
            "Epoch 64/200\n",
            "32/32 [==============================] - 0s 1ms/step - loss: 7.7125 - accuracy: 0.5000\n",
            "Epoch 65/200\n",
            "32/32 [==============================] - 0s 2ms/step - loss: 7.7125 - accuracy: 0.5000\n",
            "Epoch 66/200\n",
            "32/32 [==============================] - 0s 2ms/step - loss: 7.7125 - accuracy: 0.5000\n",
            "Epoch 67/200\n",
            "32/32 [==============================] - 0s 2ms/step - loss: 7.7125 - accuracy: 0.5000\n",
            "Epoch 68/200\n",
            "32/32 [==============================] - 0s 1ms/step - loss: 7.7125 - accuracy: 0.5000\n",
            "Epoch 69/200\n",
            "32/32 [==============================] - 0s 2ms/step - loss: 7.7125 - accuracy: 0.5000\n",
            "Epoch 70/200\n",
            "32/32 [==============================] - 0s 2ms/step - loss: 7.7125 - accuracy: 0.5000\n",
            "Epoch 71/200\n",
            "32/32 [==============================] - 0s 1ms/step - loss: 7.7125 - accuracy: 0.5000\n",
            "Epoch 72/200\n",
            "32/32 [==============================] - 0s 1ms/step - loss: 7.7125 - accuracy: 0.5000\n",
            "Epoch 73/200\n",
            "32/32 [==============================] - 0s 1ms/step - loss: 7.7125 - accuracy: 0.5000\n",
            "Epoch 74/200\n",
            "32/32 [==============================] - 0s 1ms/step - loss: 7.7125 - accuracy: 0.5000\n",
            "Epoch 75/200\n",
            "32/32 [==============================] - 0s 1ms/step - loss: 7.7125 - accuracy: 0.5000\n",
            "Epoch 76/200\n",
            "32/32 [==============================] - 0s 2ms/step - loss: 7.7125 - accuracy: 0.5000\n",
            "Epoch 77/200\n",
            "32/32 [==============================] - 0s 2ms/step - loss: 7.7125 - accuracy: 0.5000\n",
            "Epoch 78/200\n",
            "32/32 [==============================] - 0s 1ms/step - loss: 7.7125 - accuracy: 0.5000\n",
            "Epoch 79/200\n",
            "32/32 [==============================] - 0s 1ms/step - loss: 7.7125 - accuracy: 0.5000\n",
            "Epoch 80/200\n",
            "32/32 [==============================] - 0s 1ms/step - loss: 7.7125 - accuracy: 0.5000\n",
            "Epoch 81/200\n",
            "32/32 [==============================] - 0s 1ms/step - loss: 7.7125 - accuracy: 0.5000\n",
            "Epoch 82/200\n",
            "32/32 [==============================] - 0s 2ms/step - loss: 7.7125 - accuracy: 0.5000\n",
            "Epoch 83/200\n",
            "32/32 [==============================] - 0s 2ms/step - loss: 7.7125 - accuracy: 0.5000\n",
            "Epoch 84/200\n",
            "32/32 [==============================] - 0s 1ms/step - loss: 7.7125 - accuracy: 0.5000\n",
            "Epoch 85/200\n",
            "32/32 [==============================] - 0s 2ms/step - loss: 7.7125 - accuracy: 0.5000\n",
            "Epoch 86/200\n",
            "32/32 [==============================] - 0s 1ms/step - loss: 7.7125 - accuracy: 0.5000\n",
            "Epoch 87/200\n",
            "32/32 [==============================] - 0s 2ms/step - loss: 7.7125 - accuracy: 0.5000\n",
            "Epoch 88/200\n",
            "32/32 [==============================] - 0s 1ms/step - loss: 7.7125 - accuracy: 0.5000\n",
            "Epoch 89/200\n",
            "32/32 [==============================] - 0s 2ms/step - loss: 7.7125 - accuracy: 0.5000\n",
            "Epoch 90/200\n",
            "32/32 [==============================] - 0s 1ms/step - loss: 7.7125 - accuracy: 0.5000\n",
            "Epoch 91/200\n",
            "32/32 [==============================] - 0s 2ms/step - loss: 7.7125 - accuracy: 0.5000\n",
            "Epoch 92/200\n",
            "32/32 [==============================] - 0s 1ms/step - loss: 7.7125 - accuracy: 0.5000\n",
            "Epoch 93/200\n",
            "32/32 [==============================] - 0s 2ms/step - loss: 7.7125 - accuracy: 0.5000\n",
            "Epoch 94/200\n",
            "32/32 [==============================] - 0s 1ms/step - loss: 7.7125 - accuracy: 0.5000\n",
            "Epoch 95/200\n",
            "32/32 [==============================] - 0s 1ms/step - loss: 7.7125 - accuracy: 0.5000\n",
            "Epoch 96/200\n",
            "32/32 [==============================] - 0s 1ms/step - loss: 7.7125 - accuracy: 0.5000\n",
            "Epoch 97/200\n",
            "32/32 [==============================] - 0s 2ms/step - loss: 7.7125 - accuracy: 0.5000\n",
            "Epoch 98/200\n",
            "32/32 [==============================] - 0s 1ms/step - loss: 7.7125 - accuracy: 0.5000\n",
            "Epoch 99/200\n",
            "32/32 [==============================] - 0s 1ms/step - loss: 7.7125 - accuracy: 0.5000\n",
            "Epoch 100/200\n",
            "32/32 [==============================] - 0s 2ms/step - loss: 7.7125 - accuracy: 0.5000\n",
            "Epoch 101/200\n",
            "32/32 [==============================] - 0s 1ms/step - loss: 7.7125 - accuracy: 0.5000\n",
            "Epoch 102/200\n",
            "32/32 [==============================] - 0s 1ms/step - loss: 7.7125 - accuracy: 0.5000\n",
            "Epoch 103/200\n",
            "32/32 [==============================] - 0s 1ms/step - loss: 7.7125 - accuracy: 0.5000\n",
            "Epoch 104/200\n",
            "32/32 [==============================] - 0s 2ms/step - loss: 7.7125 - accuracy: 0.5000\n",
            "Epoch 105/200\n",
            "32/32 [==============================] - 0s 2ms/step - loss: 7.7125 - accuracy: 0.5000\n",
            "Epoch 106/200\n",
            "32/32 [==============================] - 0s 1ms/step - loss: 7.7125 - accuracy: 0.5000\n",
            "Epoch 107/200\n",
            "32/32 [==============================] - 0s 2ms/step - loss: 7.7125 - accuracy: 0.5000\n",
            "Epoch 108/200\n",
            "32/32 [==============================] - 0s 2ms/step - loss: 7.7125 - accuracy: 0.5000\n",
            "Epoch 109/200\n",
            "32/32 [==============================] - 0s 1ms/step - loss: 7.7125 - accuracy: 0.5000\n",
            "Epoch 110/200\n",
            "32/32 [==============================] - 0s 1ms/step - loss: 7.7125 - accuracy: 0.5000\n",
            "Epoch 111/200\n",
            "32/32 [==============================] - 0s 2ms/step - loss: 7.7125 - accuracy: 0.5000\n",
            "Epoch 112/200\n",
            "32/32 [==============================] - 0s 1ms/step - loss: 7.7125 - accuracy: 0.5000\n",
            "Epoch 113/200\n",
            "32/32 [==============================] - 0s 1ms/step - loss: 7.7125 - accuracy: 0.5000\n",
            "Epoch 114/200\n",
            "32/32 [==============================] - 0s 1ms/step - loss: 7.7125 - accuracy: 0.5000\n",
            "Epoch 115/200\n",
            "32/32 [==============================] - 0s 1ms/step - loss: 7.7125 - accuracy: 0.5000\n",
            "Epoch 116/200\n",
            "32/32 [==============================] - 0s 2ms/step - loss: 7.7125 - accuracy: 0.5000\n",
            "Epoch 117/200\n",
            "32/32 [==============================] - 0s 2ms/step - loss: 7.7125 - accuracy: 0.5000\n",
            "Epoch 118/200\n",
            "32/32 [==============================] - 0s 2ms/step - loss: 7.7125 - accuracy: 0.5000\n",
            "Epoch 119/200\n",
            "32/32 [==============================] - 0s 2ms/step - loss: 7.7125 - accuracy: 0.5000\n",
            "Epoch 120/200\n",
            "32/32 [==============================] - 0s 1ms/step - loss: 7.7125 - accuracy: 0.5000\n",
            "Epoch 121/200\n",
            "32/32 [==============================] - 0s 2ms/step - loss: 7.7125 - accuracy: 0.5000\n",
            "Epoch 122/200\n",
            "32/32 [==============================] - 0s 2ms/step - loss: 7.7125 - accuracy: 0.5000\n",
            "Epoch 123/200\n",
            "32/32 [==============================] - 0s 1ms/step - loss: 7.7125 - accuracy: 0.5000\n",
            "Epoch 124/200\n",
            "32/32 [==============================] - 0s 1ms/step - loss: 7.7125 - accuracy: 0.5000\n",
            "Epoch 125/200\n",
            "32/32 [==============================] - 0s 2ms/step - loss: 7.7125 - accuracy: 0.5000\n",
            "Epoch 126/200\n",
            "32/32 [==============================] - 0s 2ms/step - loss: 7.7125 - accuracy: 0.5000\n",
            "Epoch 127/200\n",
            "32/32 [==============================] - 0s 2ms/step - loss: 7.7125 - accuracy: 0.5000\n",
            "Epoch 128/200\n",
            "32/32 [==============================] - 0s 1ms/step - loss: 7.7125 - accuracy: 0.5000\n",
            "Epoch 129/200\n",
            "32/32 [==============================] - 0s 1ms/step - loss: 7.7125 - accuracy: 0.5000\n",
            "Epoch 130/200\n",
            "32/32 [==============================] - 0s 2ms/step - loss: 7.7125 - accuracy: 0.5000\n",
            "Epoch 131/200\n",
            "32/32 [==============================] - 0s 1ms/step - loss: 7.7125 - accuracy: 0.5000\n",
            "Epoch 132/200\n",
            "32/32 [==============================] - 0s 2ms/step - loss: 7.7125 - accuracy: 0.5000\n",
            "Epoch 133/200\n",
            "32/32 [==============================] - 0s 2ms/step - loss: 7.7125 - accuracy: 0.5000\n",
            "Epoch 134/200\n",
            "32/32 [==============================] - 0s 2ms/step - loss: 7.7125 - accuracy: 0.5000\n",
            "Epoch 135/200\n",
            "32/32 [==============================] - 0s 1ms/step - loss: 7.7125 - accuracy: 0.5000\n",
            "Epoch 136/200\n",
            "32/32 [==============================] - 0s 1ms/step - loss: 7.7125 - accuracy: 0.5000\n",
            "Epoch 137/200\n",
            "32/32 [==============================] - 0s 2ms/step - loss: 7.7125 - accuracy: 0.5000\n",
            "Epoch 138/200\n",
            "32/32 [==============================] - 0s 1ms/step - loss: 7.7125 - accuracy: 0.5000\n",
            "Epoch 139/200\n",
            "32/32 [==============================] - 0s 2ms/step - loss: 7.7125 - accuracy: 0.5000\n",
            "Epoch 140/200\n",
            "32/32 [==============================] - 0s 2ms/step - loss: 7.7125 - accuracy: 0.5000\n",
            "Epoch 141/200\n",
            "32/32 [==============================] - 0s 1ms/step - loss: 7.7125 - accuracy: 0.5000\n",
            "Epoch 142/200\n",
            "32/32 [==============================] - 0s 1ms/step - loss: 7.7125 - accuracy: 0.5000\n",
            "Epoch 143/200\n",
            "32/32 [==============================] - 0s 1ms/step - loss: 7.7125 - accuracy: 0.5000\n",
            "Epoch 144/200\n",
            "32/32 [==============================] - 0s 1ms/step - loss: 7.7125 - accuracy: 0.5000\n",
            "Epoch 145/200\n",
            "32/32 [==============================] - 0s 1ms/step - loss: 7.7125 - accuracy: 0.5000\n",
            "Epoch 146/200\n",
            "32/32 [==============================] - 0s 2ms/step - loss: 7.7125 - accuracy: 0.5000\n",
            "Epoch 147/200\n",
            "32/32 [==============================] - 0s 2ms/step - loss: 7.7125 - accuracy: 0.5000\n",
            "Epoch 148/200\n",
            "32/32 [==============================] - 0s 2ms/step - loss: 7.7125 - accuracy: 0.5000\n",
            "Epoch 149/200\n",
            "32/32 [==============================] - 0s 2ms/step - loss: 7.7125 - accuracy: 0.5000\n",
            "Epoch 150/200\n",
            "32/32 [==============================] - 0s 1ms/step - loss: 7.7125 - accuracy: 0.5000\n",
            "Epoch 151/200\n",
            "32/32 [==============================] - 0s 1ms/step - loss: 7.7125 - accuracy: 0.5000\n",
            "Epoch 152/200\n",
            "32/32 [==============================] - 0s 1ms/step - loss: 7.7125 - accuracy: 0.5000\n",
            "Epoch 153/200\n",
            "32/32 [==============================] - 0s 1ms/step - loss: 7.7125 - accuracy: 0.5000\n",
            "Epoch 154/200\n",
            "32/32 [==============================] - 0s 1ms/step - loss: 7.7125 - accuracy: 0.5000\n",
            "Epoch 155/200\n",
            "32/32 [==============================] - 0s 2ms/step - loss: 7.7125 - accuracy: 0.5000\n",
            "Epoch 156/200\n",
            "32/32 [==============================] - 0s 1ms/step - loss: 7.7125 - accuracy: 0.5000\n",
            "Epoch 157/200\n",
            "32/32 [==============================] - 0s 2ms/step - loss: 7.7125 - accuracy: 0.5000\n",
            "Epoch 158/200\n",
            "32/32 [==============================] - 0s 1ms/step - loss: 7.7125 - accuracy: 0.5000\n",
            "Epoch 159/200\n",
            "32/32 [==============================] - 0s 1ms/step - loss: 7.7125 - accuracy: 0.5000\n",
            "Epoch 160/200\n",
            "32/32 [==============================] - 0s 1ms/step - loss: 7.7125 - accuracy: 0.5000\n",
            "Epoch 161/200\n",
            "32/32 [==============================] - 0s 1ms/step - loss: 7.7125 - accuracy: 0.5000\n",
            "Epoch 162/200\n",
            "32/32 [==============================] - 0s 1ms/step - loss: 7.7125 - accuracy: 0.5000\n",
            "Epoch 163/200\n",
            "32/32 [==============================] - 0s 1ms/step - loss: 7.7125 - accuracy: 0.5000\n",
            "Epoch 164/200\n",
            "32/32 [==============================] - 0s 2ms/step - loss: 7.7125 - accuracy: 0.5000\n",
            "Epoch 165/200\n",
            "32/32 [==============================] - 0s 1ms/step - loss: 7.7125 - accuracy: 0.5000\n",
            "Epoch 166/200\n",
            "32/32 [==============================] - 0s 1ms/step - loss: 7.7125 - accuracy: 0.5000\n",
            "Epoch 167/200\n",
            "32/32 [==============================] - 0s 1ms/step - loss: 7.7125 - accuracy: 0.5000\n",
            "Epoch 168/200\n",
            "32/32 [==============================] - 0s 1ms/step - loss: 7.7125 - accuracy: 0.5000\n",
            "Epoch 169/200\n",
            "32/32 [==============================] - 0s 1ms/step - loss: 7.7125 - accuracy: 0.5000\n",
            "Epoch 170/200\n",
            "32/32 [==============================] - 0s 2ms/step - loss: 7.7125 - accuracy: 0.5000\n",
            "Epoch 171/200\n",
            "32/32 [==============================] - 0s 1ms/step - loss: 7.7125 - accuracy: 0.5000\n",
            "Epoch 172/200\n",
            "32/32 [==============================] - 0s 1ms/step - loss: 7.7125 - accuracy: 0.5000\n",
            "Epoch 173/200\n",
            "32/32 [==============================] - 0s 2ms/step - loss: 7.7125 - accuracy: 0.5000\n",
            "Epoch 174/200\n",
            "32/32 [==============================] - 0s 1ms/step - loss: 7.7125 - accuracy: 0.5000\n",
            "Epoch 175/200\n",
            "32/32 [==============================] - 0s 1ms/step - loss: 7.7125 - accuracy: 0.5000\n",
            "Epoch 176/200\n",
            "32/32 [==============================] - 0s 2ms/step - loss: 7.7125 - accuracy: 0.5000\n",
            "Epoch 177/200\n",
            "32/32 [==============================] - 0s 1ms/step - loss: 7.7125 - accuracy: 0.5000\n",
            "Epoch 178/200\n",
            "32/32 [==============================] - 0s 1ms/step - loss: 7.7125 - accuracy: 0.5000\n",
            "Epoch 179/200\n",
            "32/32 [==============================] - 0s 2ms/step - loss: 7.7125 - accuracy: 0.5000\n",
            "Epoch 180/200\n",
            "32/32 [==============================] - 0s 2ms/step - loss: 7.7125 - accuracy: 0.5000\n",
            "Epoch 181/200\n",
            "32/32 [==============================] - 0s 1ms/step - loss: 7.7125 - accuracy: 0.5000\n",
            "Epoch 182/200\n",
            "32/32 [==============================] - 0s 1ms/step - loss: 7.7125 - accuracy: 0.5000\n",
            "Epoch 183/200\n",
            "32/32 [==============================] - 0s 2ms/step - loss: 7.7125 - accuracy: 0.5000\n",
            "Epoch 184/200\n",
            "32/32 [==============================] - 0s 1ms/step - loss: 7.7125 - accuracy: 0.5000\n",
            "Epoch 185/200\n",
            "32/32 [==============================] - 0s 2ms/step - loss: 7.7125 - accuracy: 0.5000\n",
            "Epoch 186/200\n",
            "32/32 [==============================] - 0s 1ms/step - loss: 7.7125 - accuracy: 0.5000\n",
            "Epoch 187/200\n",
            "32/32 [==============================] - 0s 1ms/step - loss: 7.7125 - accuracy: 0.5000\n",
            "Epoch 188/200\n",
            "32/32 [==============================] - 0s 1ms/step - loss: 7.7125 - accuracy: 0.5000\n",
            "Epoch 189/200\n",
            "32/32 [==============================] - 0s 1ms/step - loss: 7.7125 - accuracy: 0.5000\n",
            "Epoch 190/200\n",
            "32/32 [==============================] - 0s 1ms/step - loss: 7.7125 - accuracy: 0.5000\n",
            "Epoch 191/200\n",
            "32/32 [==============================] - 0s 1ms/step - loss: 7.7125 - accuracy: 0.5000\n",
            "Epoch 192/200\n",
            "32/32 [==============================] - 0s 1ms/step - loss: 7.7125 - accuracy: 0.5000\n",
            "Epoch 193/200\n",
            "32/32 [==============================] - 0s 2ms/step - loss: 7.7125 - accuracy: 0.5000\n",
            "Epoch 194/200\n",
            "32/32 [==============================] - 0s 1ms/step - loss: 7.7125 - accuracy: 0.5000\n",
            "Epoch 195/200\n",
            "32/32 [==============================] - 0s 2ms/step - loss: 7.7125 - accuracy: 0.5000\n",
            "Epoch 196/200\n",
            "32/32 [==============================] - 0s 1ms/step - loss: 7.7125 - accuracy: 0.5000\n",
            "Epoch 197/200\n",
            "32/32 [==============================] - 0s 1ms/step - loss: 7.7125 - accuracy: 0.5000\n",
            "Epoch 198/200\n",
            "32/32 [==============================] - 0s 1ms/step - loss: 7.7125 - accuracy: 0.5000\n",
            "Epoch 199/200\n",
            "32/32 [==============================] - 0s 1ms/step - loss: 7.7125 - accuracy: 0.5000\n",
            "Epoch 200/200\n",
            "32/32 [==============================] - 0s 2ms/step - loss: 7.7125 - accuracy: 0.5000\n"
          ]
        }
      ]
    },
    {
      "cell_type": "code",
      "metadata": {
        "colab": {
          "base_uri": "https://localhost:8080/"
        },
        "id": "iS9I73ndZegZ",
        "outputId": "44ad3043-a70c-4ffc-c6b7-f23463d36ede"
      },
      "source": [
        "# Evalaute the model\n",
        "\n",
        "model_6.evaluate(x,y)"
      ],
      "execution_count": 56,
      "outputs": [
        {
          "output_type": "stream",
          "name": "stdout",
          "text": [
            "32/32 [==============================] - 0s 1ms/step - loss: 7.7125 - accuracy: 0.5000\n"
          ]
        },
        {
          "output_type": "execute_result",
          "data": {
            "text/plain": [
              "[7.712474346160889, 0.5]"
            ]
          },
          "metadata": {},
          "execution_count": 56
        }
      ]
    },
    {
      "cell_type": "code",
      "metadata": {
        "colab": {
          "base_uri": "https://localhost:8080/",
          "height": 282
        },
        "id": "7vU_F0QDaPnf",
        "outputId": "2554cdfb-e972-4fc7-cdcc-9b5d2c5a7f87"
      },
      "source": [
        "plot_decision_boundary(model_6,x,y)"
      ],
      "execution_count": 57,
      "outputs": [
        {
          "output_type": "stream",
          "name": "stdout",
          "text": [
            "doing binary classifcation...\n"
          ]
        },
        {
          "output_type": "display_data",
          "data": {
            "image/png": "[encoded data removed]",
            "text/plain": [
              "<Figure size 432x288 with 1 Axes>"
            ]
          },
          "metadata": {
            "needs_background": "light"
          }
        }
      ]
    },
    {
      "cell_type": "code",
      "metadata": {
        "colab": {
          "base_uri": "https://localhost:8080/"
        },
        "id": "GNHbQLt8brsM",
        "outputId": "887a0eaf-0bd1-408d-c422-4e4a8ca77071"
      },
      "source": [
        "tf.random.set_seed(42)\n",
        "\n",
        "model_7=tf.keras.Sequential([tf.keras.layers.Dense(4,activation='relu'),\n",
        "                             tf.keras.layers.Dense(4,activation='relu'),\n",
        "                             tf.keras.layers.Dense(1,activation='sigmoid')]\n",
        ")\n",
        "\n",
        "model_7.compile(loss='binary_crossentropy',\n",
        "                optimizer=tf.keras.optimizers.Adam(lr=.01),\n",
        "                metrics=['accuracy'])\n",
        "\n",
        "history=model_7.fit(x,y,epochs=100)"
      ],
      "execution_count": 58,
      "outputs": [
        {
          "output_type": "stream",
          "name": "stderr",
          "text": [
            "/usr/local/lib/python3.7/dist-packages/keras/optimizer_v2/optimizer_v2.py:356: UserWarning: The `lr` argument is deprecated, use `learning_rate` instead.\n",
            "  \"The `lr` argument is deprecated, use `learning_rate` instead.\")\n"
          ]
        },
        {
          "output_type": "stream",
          "name": "stdout",
          "text": [
            "Epoch 1/100\n",
            "32/32 [==============================] - 1s 1ms/step - loss: 0.6834 - accuracy: 0.5550\n",
            "Epoch 2/100\n",
            "32/32 [==============================] - 0s 2ms/step - loss: 0.6761 - accuracy: 0.5630\n",
            "Epoch 3/100\n",
            "32/32 [==============================] - 0s 1ms/step - loss: 0.6700 - accuracy: 0.5600\n",
            "Epoch 4/100\n",
            "32/32 [==============================] - 0s 1ms/step - loss: 0.6615 - accuracy: 0.5960\n",
            "Epoch 5/100\n",
            "32/32 [==============================] - 0s 1ms/step - loss: 0.6553 - accuracy: 0.5850\n",
            "Epoch 6/100\n",
            "32/32 [==============================] - 0s 1ms/step - loss: 0.6386 - accuracy: 0.6360\n",
            "Epoch 7/100\n",
            "32/32 [==============================] - 0s 1ms/step - loss: 0.6150 - accuracy: 0.6890\n",
            "Epoch 8/100\n",
            "32/32 [==============================] - 0s 1ms/step - loss: 0.5641 - accuracy: 0.7480\n",
            "Epoch 9/100\n",
            "32/32 [==============================] - 0s 1ms/step - loss: 0.5101 - accuracy: 0.8090\n",
            "Epoch 10/100\n",
            "32/32 [==============================] - 0s 1ms/step - loss: 0.4451 - accuracy: 0.8550\n",
            "Epoch 11/100\n",
            "32/32 [==============================] - 0s 1ms/step - loss: 0.4107 - accuracy: 0.8250\n",
            "Epoch 12/100\n",
            "32/32 [==============================] - 0s 1ms/step - loss: 0.3722 - accuracy: 0.8770\n",
            "Epoch 13/100\n",
            "32/32 [==============================] - 0s 1ms/step - loss: 0.3106 - accuracy: 0.9400\n",
            "Epoch 14/100\n",
            "32/32 [==============================] - 0s 2ms/step - loss: 0.2762 - accuracy: 0.9500\n",
            "Epoch 15/100\n",
            "32/32 [==============================] - 0s 1ms/step - loss: 0.2421 - accuracy: 0.9670\n",
            "Epoch 16/100\n",
            "32/32 [==============================] - 0s 2ms/step - loss: 0.2116 - accuracy: 0.9800\n",
            "Epoch 17/100\n",
            "32/32 [==============================] - 0s 1ms/step - loss: 0.1926 - accuracy: 0.9780\n",
            "Epoch 18/100\n",
            "32/32 [==============================] - 0s 1ms/step - loss: 0.1718 - accuracy: 0.9830\n",
            "Epoch 19/100\n",
            "32/32 [==============================] - 0s 2ms/step - loss: 0.1599 - accuracy: 0.9760\n",
            "Epoch 20/100\n",
            "32/32 [==============================] - 0s 1ms/step - loss: 0.1419 - accuracy: 0.9820\n",
            "Epoch 21/100\n",
            "32/32 [==============================] - 0s 1ms/step - loss: 0.1375 - accuracy: 0.9830\n",
            "Epoch 22/100\n",
            "32/32 [==============================] - 0s 1ms/step - loss: 0.1300 - accuracy: 0.9820\n",
            "Epoch 23/100\n",
            "32/32 [==============================] - 0s 1ms/step - loss: 0.1219 - accuracy: 0.9840\n",
            "Epoch 24/100\n",
            "32/32 [==============================] - 0s 2ms/step - loss: 0.1102 - accuracy: 0.9820\n",
            "Epoch 25/100\n",
            "32/32 [==============================] - 0s 1ms/step - loss: 0.1073 - accuracy: 0.9830\n",
            "Epoch 26/100\n",
            "32/32 [==============================] - 0s 1ms/step - loss: 0.1005 - accuracy: 0.9830\n",
            "Epoch 27/100\n",
            "32/32 [==============================] - 0s 1ms/step - loss: 0.0901 - accuracy: 0.9900\n",
            "Epoch 28/100\n",
            "32/32 [==============================] - 0s 2ms/step - loss: 0.0911 - accuracy: 0.9830\n",
            "Epoch 29/100\n",
            "32/32 [==============================] - 0s 1ms/step - loss: 0.0942 - accuracy: 0.9780\n",
            "Epoch 30/100\n",
            "32/32 [==============================] - 0s 1ms/step - loss: 0.0816 - accuracy: 0.9820\n",
            "Epoch 31/100\n",
            "32/32 [==============================] - 0s 1ms/step - loss: 0.0743 - accuracy: 0.9880\n",
            "Epoch 32/100\n",
            "32/32 [==============================] - 0s 1ms/step - loss: 0.0772 - accuracy: 0.9830\n",
            "Epoch 33/100\n",
            "32/32 [==============================] - 0s 1ms/step - loss: 0.0827 - accuracy: 0.9850\n",
            "Epoch 34/100\n",
            "32/32 [==============================] - 0s 1ms/step - loss: 0.0696 - accuracy: 0.9910\n",
            "Epoch 35/100\n",
            "32/32 [==============================] - 0s 1ms/step - loss: 0.0643 - accuracy: 0.9910\n",
            "Epoch 36/100\n",
            "32/32 [==============================] - 0s 1ms/step - loss: 0.0696 - accuracy: 0.9840\n",
            "Epoch 37/100\n",
            "32/32 [==============================] - 0s 1ms/step - loss: 0.0650 - accuracy: 0.9880\n",
            "Epoch 38/100\n",
            "32/32 [==============================] - 0s 1ms/step - loss: 0.0587 - accuracy: 0.9880\n",
            "Epoch 39/100\n",
            "32/32 [==============================] - 0s 1ms/step - loss: 0.0682 - accuracy: 0.9820\n",
            "Epoch 40/100\n",
            "32/32 [==============================] - 0s 1ms/step - loss: 0.0544 - accuracy: 0.9920\n",
            "Epoch 41/100\n",
            "32/32 [==============================] - 0s 2ms/step - loss: 0.0605 - accuracy: 0.9870\n",
            "Epoch 42/100\n",
            "32/32 [==============================] - 0s 1ms/step - loss: 0.0571 - accuracy: 0.9860\n",
            "Epoch 43/100\n",
            "32/32 [==============================] - 0s 1ms/step - loss: 0.0590 - accuracy: 0.9850\n",
            "Epoch 44/100\n",
            "32/32 [==============================] - 0s 1ms/step - loss: 0.0545 - accuracy: 0.9870\n",
            "Epoch 45/100\n",
            "32/32 [==============================] - 0s 1ms/step - loss: 0.0522 - accuracy: 0.9910\n",
            "Epoch 46/100\n",
            "32/32 [==============================] - 0s 1ms/step - loss: 0.0524 - accuracy: 0.9880\n",
            "Epoch 47/100\n",
            "32/32 [==============================] - 0s 1ms/step - loss: 0.0492 - accuracy: 0.9920\n",
            "Epoch 48/100\n",
            "32/32 [==============================] - 0s 1ms/step - loss: 0.0514 - accuracy: 0.9890\n",
            "Epoch 49/100\n",
            "32/32 [==============================] - 0s 1ms/step - loss: 0.0509 - accuracy: 0.9900\n",
            "Epoch 50/100\n",
            "32/32 [==============================] - 0s 1ms/step - loss: 0.0658 - accuracy: 0.9770\n",
            "Epoch 51/100\n",
            "32/32 [==============================] - 0s 2ms/step - loss: 0.0502 - accuracy: 0.9880\n",
            "Epoch 52/100\n",
            "32/32 [==============================] - 0s 2ms/step - loss: 0.0431 - accuracy: 0.9900\n",
            "Epoch 53/100\n",
            "32/32 [==============================] - 0s 2ms/step - loss: 0.0476 - accuracy: 0.9850\n",
            "Epoch 54/100\n",
            "32/32 [==============================] - 0s 1ms/step - loss: 0.0469 - accuracy: 0.9900\n",
            "Epoch 55/100\n",
            "32/32 [==============================] - 0s 2ms/step - loss: 0.0437 - accuracy: 0.9900\n",
            "Epoch 56/100\n",
            "32/32 [==============================] - 0s 2ms/step - loss: 0.0453 - accuracy: 0.9920\n",
            "Epoch 57/100\n",
            "32/32 [==============================] - 0s 1ms/step - loss: 0.0442 - accuracy: 0.9860\n",
            "Epoch 58/100\n",
            "32/32 [==============================] - 0s 2ms/step - loss: 0.0430 - accuracy: 0.9910\n",
            "Epoch 59/100\n",
            "32/32 [==============================] - 0s 1ms/step - loss: 0.0455 - accuracy: 0.9890\n",
            "Epoch 60/100\n",
            "32/32 [==============================] - 0s 2ms/step - loss: 0.0397 - accuracy: 0.9910\n",
            "Epoch 61/100\n",
            "32/32 [==============================] - 0s 1ms/step - loss: 0.0569 - accuracy: 0.9830\n",
            "Epoch 62/100\n",
            "32/32 [==============================] - 0s 1ms/step - loss: 0.0460 - accuracy: 0.9860\n",
            "Epoch 63/100\n",
            "32/32 [==============================] - 0s 1ms/step - loss: 0.0366 - accuracy: 0.9920\n",
            "Epoch 64/100\n",
            "32/32 [==============================] - 0s 1ms/step - loss: 0.0398 - accuracy: 0.9910\n",
            "Epoch 65/100\n",
            "32/32 [==============================] - 0s 1ms/step - loss: 0.0453 - accuracy: 0.9880\n",
            "Epoch 66/100\n",
            "32/32 [==============================] - 0s 2ms/step - loss: 0.0481 - accuracy: 0.9830\n",
            "Epoch 67/100\n",
            "32/32 [==============================] - 0s 1ms/step - loss: 0.0374 - accuracy: 0.9910\n",
            "Epoch 68/100\n",
            "32/32 [==============================] - 0s 1ms/step - loss: 0.0337 - accuracy: 0.9920\n",
            "Epoch 69/100\n",
            "32/32 [==============================] - 0s 1ms/step - loss: 0.0353 - accuracy: 0.9930\n",
            "Epoch 70/100\n",
            "32/32 [==============================] - 0s 1ms/step - loss: 0.0561 - accuracy: 0.9830\n",
            "Epoch 71/100\n",
            "32/32 [==============================] - 0s 2ms/step - loss: 0.0363 - accuracy: 0.9920\n",
            "Epoch 72/100\n",
            "32/32 [==============================] - 0s 1ms/step - loss: 0.0380 - accuracy: 0.9900\n",
            "Epoch 73/100\n",
            "32/32 [==============================] - 0s 1ms/step - loss: 0.0382 - accuracy: 0.9860\n",
            "Epoch 74/100\n",
            "32/32 [==============================] - 0s 1ms/step - loss: 0.0334 - accuracy: 0.9910\n",
            "Epoch 75/100\n",
            "32/32 [==============================] - 0s 1ms/step - loss: 0.0340 - accuracy: 0.9910\n",
            "Epoch 76/100\n",
            "32/32 [==============================] - 0s 2ms/step - loss: 0.0419 - accuracy: 0.9890\n",
            "Epoch 77/100\n",
            "32/32 [==============================] - 0s 2ms/step - loss: 0.0345 - accuracy: 0.9920\n",
            "Epoch 78/100\n",
            "32/32 [==============================] - 0s 2ms/step - loss: 0.0430 - accuracy: 0.9870\n",
            "Epoch 79/100\n",
            "32/32 [==============================] - 0s 2ms/step - loss: 0.0412 - accuracy: 0.9890\n",
            "Epoch 80/100\n",
            "32/32 [==============================] - 0s 1ms/step - loss: 0.0369 - accuracy: 0.9880\n",
            "Epoch 81/100\n",
            "32/32 [==============================] - 0s 1ms/step - loss: 0.0342 - accuracy: 0.9910\n",
            "Epoch 82/100\n",
            "32/32 [==============================] - 0s 1ms/step - loss: 0.0317 - accuracy: 0.9910\n",
            "Epoch 83/100\n",
            "32/32 [==============================] - 0s 1ms/step - loss: 0.0534 - accuracy: 0.9790\n",
            "Epoch 84/100\n",
            "32/32 [==============================] - 0s 2ms/step - loss: 0.0293 - accuracy: 0.9940\n",
            "Epoch 85/100\n",
            "32/32 [==============================] - 0s 1ms/step - loss: 0.0328 - accuracy: 0.9930\n",
            "Epoch 86/100\n",
            "32/32 [==============================] - 0s 1ms/step - loss: 0.0325 - accuracy: 0.9890\n",
            "Epoch 87/100\n",
            "32/32 [==============================] - 0s 1ms/step - loss: 0.0378 - accuracy: 0.9880\n",
            "Epoch 88/100\n",
            "32/32 [==============================] - 0s 1ms/step - loss: 0.0337 - accuracy: 0.9890\n",
            "Epoch 89/100\n",
            "32/32 [==============================] - 0s 2ms/step - loss: 0.0379 - accuracy: 0.9860\n",
            "Epoch 90/100\n",
            "32/32 [==============================] - 0s 1ms/step - loss: 0.0338 - accuracy: 0.9930\n",
            "Epoch 91/100\n",
            "32/32 [==============================] - 0s 1ms/step - loss: 0.0360 - accuracy: 0.9820\n",
            "Epoch 92/100\n",
            "32/32 [==============================] - 0s 2ms/step - loss: 0.0392 - accuracy: 0.9850\n",
            "Epoch 93/100\n",
            "32/32 [==============================] - 0s 1ms/step - loss: 0.0287 - accuracy: 0.9920\n",
            "Epoch 94/100\n",
            "32/32 [==============================] - 0s 1ms/step - loss: 0.0302 - accuracy: 0.9930\n",
            "Epoch 95/100\n",
            "32/32 [==============================] - 0s 1ms/step - loss: 0.0336 - accuracy: 0.9900\n",
            "Epoch 96/100\n",
            "32/32 [==============================] - 0s 1ms/step - loss: 0.0319 - accuracy: 0.9910\n",
            "Epoch 97/100\n",
            "32/32 [==============================] - 0s 1ms/step - loss: 0.0631 - accuracy: 0.9780\n",
            "Epoch 98/100\n",
            "32/32 [==============================] - 0s 2ms/step - loss: 0.0449 - accuracy: 0.9830\n",
            "Epoch 99/100\n",
            "32/32 [==============================] - 0s 2ms/step - loss: 0.0319 - accuracy: 0.9900\n",
            "Epoch 100/100\n",
            "32/32 [==============================] - 0s 1ms/step - loss: 0.0321 - accuracy: 0.9860\n"
          ]
        }
      ]
    },
    {
      "cell_type": "code",
      "metadata": {
        "colab": {
          "base_uri": "https://localhost:8080/"
        },
        "id": "cl_AVGR8kX7L",
        "outputId": "c792c8bb-5855-408f-d1be-f233f6152019"
      },
      "source": [
        "model_7.evaluate(x,y)"
      ],
      "execution_count": 59,
      "outputs": [
        {
          "output_type": "stream",
          "name": "stdout",
          "text": [
            "32/32 [==============================] - 0s 1ms/step - loss: 0.0279 - accuracy: 0.9900\n"
          ]
        },
        {
          "output_type": "execute_result",
          "data": {
            "text/plain": [
              "[0.02788819745182991, 0.9900000095367432]"
            ]
          },
          "metadata": {},
          "execution_count": 59
        }
      ]
    },
    {
      "cell_type": "code",
      "metadata": {
        "colab": {
          "base_uri": "https://localhost:8080/",
          "height": 282
        },
        "id": "IKoB13sfkeGE",
        "outputId": "bdcaa577-97f1-4fa8-a8ed-39a85f20c830"
      },
      "source": [
        "# visualize\n",
        "\n",
        "plot_decision_boundary(model_7,x,y)"
      ],
      "execution_count": 60,
      "outputs": [
        {
          "output_type": "stream",
          "name": "stdout",
          "text": [
            "doing binary classifcation...\n"
          ]
        },
        {
          "output_type": "display_data",
          "data": {
            "image/png": "[encoded data removed]",
            "text/plain": [
              "<Figure size 432x288 with 1 Axes>"
            ]
          },
          "metadata": {
            "needs_background": "light"
          }
        }
      ]
    },
    {
      "cell_type": "code",
      "metadata": {
        "id": "YfQ6PuFoknew"
      },
      "source": [
        ""
      ],
      "execution_count": null,
      "outputs": []
    }
  ]
}